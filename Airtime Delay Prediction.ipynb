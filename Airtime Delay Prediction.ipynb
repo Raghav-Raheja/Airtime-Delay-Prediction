{
 "cells": [
  {
   "cell_type": "markdown",
   "metadata": {},
   "source": [
    "# Airline Delay Prediction Using Regression Models\n",
    "\n",
    "An attempt at predicting the airtime delay using different features like departure time, arrival time, origin airport, destination airport and so on. We have used Root Mean Square Error (RMSE) to judge the accuracy of the models. We tried to implement different models to get the best model with least RMSE. We also tried regularization to see the results. \n",
    " \n"
   ]
  },
  {
   "cell_type": "markdown",
   "metadata": {},
   "source": [
    "# Memebers\n",
    "- Palaniappan Muthukkaruppan\n",
    "- Vaibhav Nigam\n",
    "- Pranay Lulla\n",
    "- Raghav Raheja"
   ]
  },
  {
   "cell_type": "markdown",
   "metadata": {},
   "source": [
    "# Requirements\n",
    "\n",
    "- __[Pandas 0.23.4](http://pandas.pydata.org/)__\n",
    "- __[Numpy 1.15.2](http://www.numpy.org/)__\n",
    "- __[Matplotlib 1.15.2](https://matplotlib.org/)__\n",
    "- __[Regular Expression Operations (re)](https://docs.python.org/3.4/library/re.html)__\n",
    "- __[Pyspark 2.3.1](https://pypi.org/project/pyspark/)__\n",
    "- __[R for Visualization](https://www.r-project.org/)__\n",
    "- __[Excel for Visualization](https://products.office.com/en-us/excel)__\n",
    "- __[Airline Delay Dataset](https://www.kaggle.com/usdot/flight-delays)__\n",
    "- __[Kaggle](https://www.kaggle.com/)__"
   ]
  },
  {
   "cell_type": "markdown",
   "metadata": {},
   "source": [
    "## Loading the Packages"
   ]
  },
  {
   "cell_type": "code",
   "execution_count": 1,
   "metadata": {},
   "outputs": [],
   "source": [
    "from pyspark.sql import SparkSession\n",
    "import pandas as pd\n",
    "import re\n",
    "from pyspark.sql import functions as fn\n",
    "import matplotlib.pylab as plt\n",
    "import numpy as np\n",
    "from pyspark.ml import feature, regression, Pipeline, classification, pipeline, evaluation\n",
    "from pyspark.ml.tuning import ParamGridBuilder\n",
    "from pyspark.sql import Row\n",
    "\n",
    "spark = SparkSession.builder.getOrCreate()\n",
    "sc = spark.sparkContext"
   ]
  },
  {
   "cell_type": "markdown",
   "metadata": {},
   "source": [
    "## Loading the Data File"
   ]
  },
  {
   "cell_type": "code",
   "execution_count": 2,
   "metadata": {},
   "outputs": [],
   "source": [
    "flights = spark.read.csv('flights.csv', header=True, inferSchema=True)\n"
   ]
  },
  {
   "cell_type": "markdown",
   "metadata": {},
   "source": [
    "## Cleaning the data"
   ]
  },
  {
   "cell_type": "code",
   "execution_count": 3,
   "metadata": {},
   "outputs": [
    {
     "data": {
      "text/html": [
       "<div>\n",
       "<style scoped>\n",
       "    .dataframe tbody tr th:only-of-type {\n",
       "        vertical-align: middle;\n",
       "    }\n",
       "\n",
       "    .dataframe tbody tr th {\n",
       "        vertical-align: top;\n",
       "    }\n",
       "\n",
       "    .dataframe thead th {\n",
       "        text-align: right;\n",
       "    }\n",
       "</style>\n",
       "<table border=\"1\" class=\"dataframe\">\n",
       "  <thead>\n",
       "    <tr style=\"text-align: right;\">\n",
       "      <th></th>\n",
       "      <th>summary</th>\n",
       "      <th>YEAR</th>\n",
       "      <th>MONTH</th>\n",
       "      <th>DAY</th>\n",
       "      <th>DAY_OF_WEEK</th>\n",
       "      <th>AIRLINE</th>\n",
       "      <th>FLIGHT_NUMBER</th>\n",
       "      <th>TAIL_NUMBER</th>\n",
       "      <th>ORIGIN_AIRPORT</th>\n",
       "      <th>DESTINATION_AIRPORT</th>\n",
       "      <th>...</th>\n",
       "      <th>DIVERTED</th>\n",
       "      <th>CANCELLED</th>\n",
       "      <th>CANCELLATION_REASON</th>\n",
       "      <th>AIR_SYSTEM_DELAY</th>\n",
       "      <th>SECURITY_DELAY</th>\n",
       "      <th>AIRLINE_DELAY</th>\n",
       "      <th>LATE_AIRCRAFT_DELAY</th>\n",
       "      <th>WEATHER_DELAY</th>\n",
       "      <th>ORIGIN_AIRPORT_NEW</th>\n",
       "      <th>DESTINATION_AIRPORT_NEW</th>\n",
       "    </tr>\n",
       "  </thead>\n",
       "  <tbody>\n",
       "    <tr>\n",
       "      <th>0</th>\n",
       "      <td>count</td>\n",
       "      <td>5819079</td>\n",
       "      <td>5819079</td>\n",
       "      <td>5819079</td>\n",
       "      <td>5819079</td>\n",
       "      <td>5819079</td>\n",
       "      <td>5819079</td>\n",
       "      <td>5804358</td>\n",
       "      <td>5819079</td>\n",
       "      <td>5819079</td>\n",
       "      <td>...</td>\n",
       "      <td>5819079</td>\n",
       "      <td>5819079</td>\n",
       "      <td>89884</td>\n",
       "      <td>1063439</td>\n",
       "      <td>1063439</td>\n",
       "      <td>1063439</td>\n",
       "      <td>1063439</td>\n",
       "      <td>1063439</td>\n",
       "      <td>5819079</td>\n",
       "      <td>5819079</td>\n",
       "    </tr>\n",
       "    <tr>\n",
       "      <th>1</th>\n",
       "      <td>mean</td>\n",
       "      <td>2015.0</td>\n",
       "      <td>6.524085168804204</td>\n",
       "      <td>15.70459397440729</td>\n",
       "      <td>3.9269411877721545</td>\n",
       "      <td>None</td>\n",
       "      <td>2173.0927423394664</td>\n",
       "      <td>None</td>\n",
       "      <td>12666.699787109315</td>\n",
       "      <td>12666.853627883538</td>\n",
       "      <td>...</td>\n",
       "      <td>0.0026098631759424473</td>\n",
       "      <td>0.015446430612129514</td>\n",
       "      <td>None</td>\n",
       "      <td>13.480568231934319</td>\n",
       "      <td>0.07615387436420895</td>\n",
       "      <td>18.969546913363153</td>\n",
       "      <td>23.472837652183152</td>\n",
       "      <td>2.915289922600168</td>\n",
       "      <td>None</td>\n",
       "      <td>None</td>\n",
       "    </tr>\n",
       "    <tr>\n",
       "      <th>2</th>\n",
       "      <td>stddev</td>\n",
       "      <td>0.0</td>\n",
       "      <td>3.4051368280555105</td>\n",
       "      <td>8.783425069807082</td>\n",
       "      <td>1.9888450134329614</td>\n",
       "      <td>None</td>\n",
       "      <td>1757.0639987866114</td>\n",
       "      <td>None</td>\n",
       "      <td>1526.7134944584895</td>\n",
       "      <td>1526.6619201888464</td>\n",
       "      <td>...</td>\n",
       "      <td>0.051020116008059946</td>\n",
       "      <td>0.12332007544158788</td>\n",
       "      <td>None</td>\n",
       "      <td>28.0036789002363</td>\n",
       "      <td>2.1434595705026083</td>\n",
       "      <td>48.161641898325655</td>\n",
       "      <td>43.19701847724116</td>\n",
       "      <td>20.433335717631337</td>\n",
       "      <td>None</td>\n",
       "      <td>None</td>\n",
       "    </tr>\n",
       "    <tr>\n",
       "      <th>3</th>\n",
       "      <td>min</td>\n",
       "      <td>2015</td>\n",
       "      <td>1</td>\n",
       "      <td>1</td>\n",
       "      <td>1</td>\n",
       "      <td>AA</td>\n",
       "      <td>1</td>\n",
       "      <td>7819A</td>\n",
       "      <td>10135</td>\n",
       "      <td>10135</td>\n",
       "      <td>...</td>\n",
       "      <td>0</td>\n",
       "      <td>0</td>\n",
       "      <td>A</td>\n",
       "      <td>0</td>\n",
       "      <td>0</td>\n",
       "      <td>0</td>\n",
       "      <td>0</td>\n",
       "      <td>0</td>\n",
       "      <td>ABE</td>\n",
       "      <td>ABE</td>\n",
       "    </tr>\n",
       "    <tr>\n",
       "      <th>4</th>\n",
       "      <td>max</td>\n",
       "      <td>2015</td>\n",
       "      <td>12</td>\n",
       "      <td>31</td>\n",
       "      <td>7</td>\n",
       "      <td>WN</td>\n",
       "      <td>9855</td>\n",
       "      <td>N9EAMQ</td>\n",
       "      <td>YUM</td>\n",
       "      <td>YUM</td>\n",
       "      <td>...</td>\n",
       "      <td>1</td>\n",
       "      <td>1</td>\n",
       "      <td>D</td>\n",
       "      <td>1134</td>\n",
       "      <td>573</td>\n",
       "      <td>1971</td>\n",
       "      <td>1331</td>\n",
       "      <td>1211</td>\n",
       "      <td>YUM</td>\n",
       "      <td>YUM</td>\n",
       "    </tr>\n",
       "  </tbody>\n",
       "</table>\n",
       "<p>5 rows × 34 columns</p>\n",
       "</div>"
      ],
      "text/plain": [
       "  summary     YEAR               MONTH                DAY         DAY_OF_WEEK  \\\n",
       "0   count  5819079             5819079            5819079             5819079   \n",
       "1    mean   2015.0   6.524085168804204  15.70459397440729  3.9269411877721545   \n",
       "2  stddev      0.0  3.4051368280555105  8.783425069807082  1.9888450134329614   \n",
       "3     min     2015                   1                  1                   1   \n",
       "4     max     2015                  12                 31                   7   \n",
       "\n",
       "   AIRLINE       FLIGHT_NUMBER TAIL_NUMBER      ORIGIN_AIRPORT  \\\n",
       "0  5819079             5819079     5804358             5819079   \n",
       "1     None  2173.0927423394664        None  12666.699787109315   \n",
       "2     None  1757.0639987866114        None  1526.7134944584895   \n",
       "3       AA                   1       7819A               10135   \n",
       "4       WN                9855      N9EAMQ                 YUM   \n",
       "\n",
       "  DESTINATION_AIRPORT           ...                         DIVERTED  \\\n",
       "0             5819079           ...                          5819079   \n",
       "1  12666.853627883538           ...            0.0026098631759424473   \n",
       "2  1526.6619201888464           ...             0.051020116008059946   \n",
       "3               10135           ...                                0   \n",
       "4                 YUM           ...                                1   \n",
       "\n",
       "              CANCELLED CANCELLATION_REASON    AIR_SYSTEM_DELAY  \\\n",
       "0               5819079               89884             1063439   \n",
       "1  0.015446430612129514                None  13.480568231934319   \n",
       "2   0.12332007544158788                None    28.0036789002363   \n",
       "3                     0                   A                   0   \n",
       "4                     1                   D                1134   \n",
       "\n",
       "        SECURITY_DELAY       AIRLINE_DELAY LATE_AIRCRAFT_DELAY  \\\n",
       "0              1063439             1063439             1063439   \n",
       "1  0.07615387436420895  18.969546913363153  23.472837652183152   \n",
       "2   2.1434595705026083  48.161641898325655   43.19701847724116   \n",
       "3                    0                   0                   0   \n",
       "4                  573                1971                1331   \n",
       "\n",
       "        WEATHER_DELAY ORIGIN_AIRPORT_NEW DESTINATION_AIRPORT_NEW  \n",
       "0             1063439            5819079                 5819079  \n",
       "1   2.915289922600168               None                    None  \n",
       "2  20.433335717631337               None                    None  \n",
       "3                   0                ABE                     ABE  \n",
       "4                1211                YUM                     YUM  \n",
       "\n",
       "[5 rows x 34 columns]"
      ]
     },
     "execution_count": 3,
     "metadata": {},
     "output_type": "execute_result"
    }
   ],
   "source": [
    "relaced = flights.withColumn(\"ORIGIN_AIRPORT_NEW\", fn.regexp_replace(fn.col(\"ORIGIN_AIRPORT\"), \"\\\\d\", \"NULL\"))\n",
    "flight = relaced.withColumn(\"DESTINATION_AIRPORT_NEW\", fn.regexp_replace(fn.col(\"DESTINATION_AIRPORT\"), \"\\\\d\", \"NULL\"))\n",
    "flight.describe().toPandas()"
   ]
  },
  {
   "cell_type": "markdown",
   "metadata": {},
   "source": [
    "# Feature Engineering"
   ]
  },
  {
   "cell_type": "code",
   "execution_count": 4,
   "metadata": {},
   "outputs": [],
   "source": [
    "flight = flight.withColumn(\"AIRTIME_DELAY\",fn.col('ELAPSED_TIME') - fn.col('SCHEDULED_TIME'))"
   ]
  },
  {
   "cell_type": "code",
   "execution_count": 5,
   "metadata": {},
   "outputs": [],
   "source": [
    "flights_df = flight.drop('CANCELLATION_REASON',\n",
    "                          'AIR_SYSTEM_DELAY',\n",
    "                          'SECURITY_DELAY',\n",
    "                          'AIRLINE_DELAY',\n",
    "                          'LATE_AIRCRAFT_DELAY',\n",
    "                          'WEATHER_DELAY',\n",
    "                         'ORIGIN_AIRPORT',\n",
    "                          'DESTINATION_AIRPORT')"
   ]
  },
  {
   "cell_type": "markdown",
   "metadata": {},
   "source": [
    "## Exploring the Data"
   ]
  },
  {
   "cell_type": "code",
   "execution_count": 9,
   "metadata": {},
   "outputs": [
    {
     "data": {
      "text/plain": [
       "5819079"
      ]
     },
     "execution_count": 9,
     "metadata": {},
     "output_type": "execute_result"
    }
   ],
   "source": [
    "flights_df.count()"
   ]
  },
  {
   "cell_type": "code",
   "execution_count": 10,
   "metadata": {},
   "outputs": [
    {
     "name": "stdout",
     "output_type": "stream",
     "text": [
      "root\n",
      " |-- YEAR: integer (nullable = true)\n",
      " |-- MONTH: integer (nullable = true)\n",
      " |-- DAY: integer (nullable = true)\n",
      " |-- DAY_OF_WEEK: integer (nullable = true)\n",
      " |-- AIRLINE: string (nullable = true)\n",
      " |-- FLIGHT_NUMBER: integer (nullable = true)\n",
      " |-- TAIL_NUMBER: string (nullable = true)\n",
      " |-- ORIGIN_AIRPORT: string (nullable = true)\n",
      " |-- DESTINATION_AIRPORT: string (nullable = true)\n",
      " |-- SCHEDULED_DEPARTURE: integer (nullable = true)\n",
      " |-- DEPARTURE_TIME: integer (nullable = true)\n",
      " |-- DEPARTURE_DELAY: integer (nullable = true)\n",
      " |-- TAXI_OUT: integer (nullable = true)\n",
      " |-- WHEELS_OFF: integer (nullable = true)\n",
      " |-- SCHEDULED_TIME: integer (nullable = true)\n",
      " |-- ELAPSED_TIME: integer (nullable = true)\n",
      " |-- AIR_TIME: integer (nullable = true)\n",
      " |-- DISTANCE: integer (nullable = true)\n",
      " |-- WHEELS_ON: integer (nullable = true)\n",
      " |-- TAXI_IN: integer (nullable = true)\n",
      " |-- SCHEDULED_ARRIVAL: integer (nullable = true)\n",
      " |-- ARRIVAL_TIME: integer (nullable = true)\n",
      " |-- ARRIVAL_DELAY: integer (nullable = true)\n",
      " |-- DIVERTED: integer (nullable = true)\n",
      " |-- CANCELLED: integer (nullable = true)\n",
      " |-- CANCELLATION_REASON: string (nullable = true)\n",
      " |-- AIR_SYSTEM_DELAY: integer (nullable = true)\n",
      " |-- SECURITY_DELAY: integer (nullable = true)\n",
      " |-- AIRLINE_DELAY: integer (nullable = true)\n",
      " |-- LATE_AIRCRAFT_DELAY: integer (nullable = true)\n",
      " |-- WEATHER_DELAY: integer (nullable = true)\n",
      "\n"
     ]
    }
   ],
   "source": [
    "flights.printSchema()"
   ]
  },
  {
   "cell_type": "code",
   "execution_count": 11,
   "metadata": {},
   "outputs": [
    {
     "name": "stdout",
     "output_type": "stream",
     "text": [
      "root\n",
      " |-- YEAR: integer (nullable = true)\n",
      " |-- MONTH: integer (nullable = true)\n",
      " |-- DAY: integer (nullable = true)\n",
      " |-- DAY_OF_WEEK: integer (nullable = true)\n",
      " |-- AIRLINE: string (nullable = true)\n",
      " |-- FLIGHT_NUMBER: integer (nullable = true)\n",
      " |-- TAIL_NUMBER: string (nullable = true)\n",
      " |-- SCHEDULED_DEPARTURE: integer (nullable = true)\n",
      " |-- DEPARTURE_TIME: integer (nullable = true)\n",
      " |-- DEPARTURE_DELAY: integer (nullable = true)\n",
      " |-- TAXI_OUT: integer (nullable = true)\n",
      " |-- WHEELS_OFF: integer (nullable = true)\n",
      " |-- SCHEDULED_TIME: integer (nullable = true)\n",
      " |-- ELAPSED_TIME: integer (nullable = true)\n",
      " |-- AIR_TIME: integer (nullable = true)\n",
      " |-- DISTANCE: integer (nullable = true)\n",
      " |-- WHEELS_ON: integer (nullable = true)\n",
      " |-- TAXI_IN: integer (nullable = true)\n",
      " |-- SCHEDULED_ARRIVAL: integer (nullable = true)\n",
      " |-- ARRIVAL_TIME: integer (nullable = true)\n",
      " |-- ARRIVAL_DELAY: integer (nullable = true)\n",
      " |-- DIVERTED: integer (nullable = true)\n",
      " |-- CANCELLED: integer (nullable = true)\n",
      " |-- ORIGIN_AIRPORT_NEW: string (nullable = true)\n",
      " |-- DESTINATION_AIRPORT_NEW: string (nullable = true)\n",
      " |-- AIRTIME_DELAY: integer (nullable = true)\n",
      "\n"
     ]
    }
   ],
   "source": [
    "flights_df.printSchema()\n"
   ]
  },
  {
   "cell_type": "code",
   "execution_count": 12,
   "metadata": {},
   "outputs": [],
   "source": [
    "flight_trial = flights"
   ]
  },
  {
   "cell_type": "markdown",
   "metadata": {},
   "source": [
    "## Counting/Handling the number of NAs and Plotting them"
   ]
  },
  {
   "cell_type": "code",
   "execution_count": 13,
   "metadata": {},
   "outputs": [],
   "source": [
    "sumar = flight_trial.describe().filter(fn.col(\"summary\") == \"count\")\n",
    "plot_data = sumar.select(*((fn.lit(flight_trial.count())-fn.col(c)).alias(c) for c in flight_trial.columns)).toPandas()"
   ]
  },
  {
   "cell_type": "code",
   "execution_count": 15,
   "metadata": {},
   "outputs": [
    {
     "data": {
      "text/plain": [
       "<matplotlib.axes._subplots.AxesSubplot at 0x298c70ba080>"
      ]
     },
     "execution_count": 15,
     "metadata": {},
     "output_type": "execute_result"
    },
    {
     "data": {
      "image/png": "[encoded data removed]",
      "text/plain": [
       "<Figure size 432x288 with 1 Axes>"
      ]
     },
     "metadata": {},
     "output_type": "display_data"
    }
   ],
   "source": [
    "df = pd.DataFrame()\n",
    "newdf = pd.DataFrame([plot_data[c] > 0 for c in plot_data.columns])\n",
    "pl_dat = pd.DataFrame(np.transpose(plot_data))\n",
    "pl_dat['polarity'] = newdf[0]\n",
    "na_values = pl_dat.loc[pl_dat['polarity'] == True]\n",
    "na_values.plot.bar(legend = False, title = 'NA Values')\n",
    "#[plot_data[i]>0 for i in plot_data.columns]\n",
    "#large_values = pd.filter(lambda y: y > 10)"
   ]
  },
  {
   "cell_type": "code",
   "execution_count": 16,
   "metadata": {},
   "outputs": [
    {
     "name": "stdout",
     "output_type": "stream",
     "text": [
      "Number of entries before removing NAs: 5819079\n",
      "NA Values:\n",
      "                             0  polarity\n",
      "TAIL_NUMBER            14721.0      True\n",
      "DEPARTURE_TIME         86153.0      True\n",
      "DEPARTURE_DELAY        86153.0      True\n",
      "TAXI_OUT               89047.0      True\n",
      "WHEELS_OFF             89047.0      True\n",
      "SCHEDULED_TIME             6.0      True\n",
      "ELAPSED_TIME          105071.0      True\n",
      "AIR_TIME              105071.0      True\n",
      "WHEELS_ON              92513.0      True\n",
      "TAXI_IN                92513.0      True\n",
      "ARRIVAL_TIME           92513.0      True\n",
      "ARRIVAL_DELAY         105071.0      True\n",
      "CANCELLATION_REASON  5729195.0      True\n",
      "AIR_SYSTEM_DELAY     4755640.0      True\n",
      "SECURITY_DELAY       4755640.0      True\n",
      "AIRLINE_DELAY        4755640.0      True\n",
      "LATE_AIRCRAFT_DELAY  4755640.0      True\n",
      "WEATHER_DELAY        4755640.0      True\n",
      "Number of entries before removing NAs: 5714008\n"
     ]
    }
   ],
   "source": [
    "print(\"Number of entries before removing NAs:\",flights_df.count())\n",
    "print(\"NA Values:\")\n",
    "print(na_values)\n",
    "print(\"Number of entries before removing NAs:\",flights_df.dropna().count())\n"
   ]
  },
  {
   "cell_type": "code",
   "execution_count": 6,
   "metadata": {},
   "outputs": [],
   "source": [
    "Filtered_data = flights_df.dropna()\n"
   ]
  },
  {
   "cell_type": "markdown",
   "metadata": {},
   "source": [
    "## Converting Departure and Arrival Time to Categorical Data"
   ]
  },
  {
   "cell_type": "code",
   "execution_count": 7,
   "metadata": {},
   "outputs": [],
   "source": [
    "Filtered_data=Filtered_data.withColumn(\"DEPARTURE_TIME\", fn.when((fn.col('DEPARTURE_TIME') >= 600)\n",
    "                                                    & (fn.col('DEPARTURE_TIME')<1200),fn.lit('Morning'))\n",
    "                                 .otherwise(fn.when((fn.col('DEPARTURE_TIME') >= 1200)\n",
    "                                                    & (fn.col('DEPARTURE_TIME') < 1600),fn.lit('Afternoon'))\n",
    "                                 .otherwise(fn.when((fn.col('DEPARTURE_TIME') >= 1600)\n",
    "                                                    & (fn.col('DEPARTURE_TIME') < 2100),fn.lit('Evening'))\n",
    "                                 .otherwise(fn.when((fn.col('DEPARTURE_TIME') >= 2100)\n",
    "                                                    & (fn.col('DEPARTURE_TIME') < 2400),fn.lit('Night'))\n",
    "                                 .otherwise(fn.lit('Early_Morning'))))))\n",
    "\n",
    "Filtered_data=Filtered_data.withColumn(\"ARRIVAL_TIME\", fn.when((fn.col('ARRIVAL_TIME') >= 600)\n",
    "                                                    & (fn.col('ARRIVAL_TIME')<1200),fn.lit('Morning'))\n",
    "                                 .otherwise(fn.when((fn.col('ARRIVAL_TIME') >= 1200)\n",
    "                                                    & (fn.col('ARRIVAL_TIME') < 1600),fn.lit('Afternoon'))\n",
    "                                 .otherwise(fn.when((fn.col('ARRIVAL_TIME') >= 1600)\n",
    "                                                    & (fn.col('ARRIVAL_TIME') < 2100),fn.lit('Evening'))\n",
    "                                 .otherwise(fn.when((fn.col('ARRIVAL_TIME') >= 2100)\n",
    "                                                    & (fn.col('ARRIVAL_TIME') <= 2400),fn.lit('Night'))           \n",
    "                                 .otherwise(fn.lit('Early_Morning'))))))\n"
   ]
  },
  {
   "cell_type": "markdown",
   "metadata": {},
   "source": [
    "## Finding correlation "
   ]
  },
  {
   "cell_type": "code",
   "execution_count": 23,
   "metadata": {},
   "outputs": [
    {
     "data": {
      "text/html": [
       "<div>\n",
       "<style scoped>\n",
       "    .dataframe tbody tr th:only-of-type {\n",
       "        vertical-align: middle;\n",
       "    }\n",
       "\n",
       "    .dataframe tbody tr th {\n",
       "        vertical-align: top;\n",
       "    }\n",
       "\n",
       "    .dataframe thead th {\n",
       "        text-align: right;\n",
       "    }\n",
       "</style>\n",
       "<table border=\"1\" class=\"dataframe\">\n",
       "  <thead>\n",
       "    <tr style=\"text-align: right;\">\n",
       "      <th></th>\n",
       "      <th>YEAR</th>\n",
       "      <th>MONTH</th>\n",
       "      <th>DAY</th>\n",
       "      <th>DAY_OF_WEEK</th>\n",
       "      <th>AIRLINE</th>\n",
       "      <th>FLIGHT_NUMBER</th>\n",
       "      <th>TAIL_NUMBER</th>\n",
       "      <th>SCHEDULED_DEPARTURE</th>\n",
       "      <th>DEPARTURE_TIME</th>\n",
       "      <th>DEPARTURE_DELAY</th>\n",
       "      <th>...</th>\n",
       "      <th>WHEELS_ON</th>\n",
       "      <th>TAXI_IN</th>\n",
       "      <th>SCHEDULED_ARRIVAL</th>\n",
       "      <th>ARRIVAL_TIME</th>\n",
       "      <th>ARRIVAL_DELAY</th>\n",
       "      <th>DIVERTED</th>\n",
       "      <th>CANCELLED</th>\n",
       "      <th>ORIGIN_AIRPORT_NEW</th>\n",
       "      <th>DESTINATION_AIRPORT_NEW</th>\n",
       "      <th>AIRTIME_DELAY</th>\n",
       "    </tr>\n",
       "  </thead>\n",
       "  <tbody>\n",
       "    <tr>\n",
       "      <th>0</th>\n",
       "      <td>None</td>\n",
       "      <td>-0.049653</td>\n",
       "      <td>-0.008705</td>\n",
       "      <td>-0.019117</td>\n",
       "      <td>None</td>\n",
       "      <td>0.0816</td>\n",
       "      <td>None</td>\n",
       "      <td>-0.010679</td>\n",
       "      <td>None</td>\n",
       "      <td>0.016203</td>\n",
       "      <td>...</td>\n",
       "      <td>0.010279</td>\n",
       "      <td>0.319776</td>\n",
       "      <td>-0.008964</td>\n",
       "      <td>None</td>\n",
       "      <td>0.343282</td>\n",
       "      <td>None</td>\n",
       "      <td>None</td>\n",
       "      <td>None</td>\n",
       "      <td>None</td>\n",
       "      <td>1.0</td>\n",
       "    </tr>\n",
       "  </tbody>\n",
       "</table>\n",
       "<p>1 rows × 26 columns</p>\n",
       "</div>"
      ],
      "text/plain": [
       "   YEAR     MONTH       DAY  DAY_OF_WEEK AIRLINE  FLIGHT_NUMBER TAIL_NUMBER  \\\n",
       "0  None -0.049653 -0.008705    -0.019117    None         0.0816        None   \n",
       "\n",
       "   SCHEDULED_DEPARTURE DEPARTURE_TIME  DEPARTURE_DELAY      ...       \\\n",
       "0            -0.010679           None         0.016203      ...        \n",
       "\n",
       "   WHEELS_ON   TAXI_IN  SCHEDULED_ARRIVAL  ARRIVAL_TIME  ARRIVAL_DELAY  \\\n",
       "0   0.010279  0.319776          -0.008964          None       0.343282   \n",
       "\n",
       "   DIVERTED  CANCELLED  ORIGIN_AIRPORT_NEW  DESTINATION_AIRPORT_NEW  \\\n",
       "0      None       None                None                     None   \n",
       "\n",
       "  AIRTIME_DELAY  \n",
       "0           1.0  \n",
       "\n",
       "[1 rows x 26 columns]"
      ]
     },
     "execution_count": 23,
     "metadata": {},
     "output_type": "execute_result"
    }
   ],
   "source": [
    "Filtered_data.select(*(fn.corr(fn.col('AIRTIME_DELAY'),fn.col(c)).alias(c) for c in Filtered_data.columns)).toPandas()"
   ]
  },
  {
   "cell_type": "markdown",
   "metadata": {},
   "source": [
    "## Splitting the data and defining Root Mean Square Error (RMSE)"
   ]
  },
  {
   "cell_type": "code",
   "execution_count": 8,
   "metadata": {},
   "outputs": [],
   "source": [
    "training_df, validation_df, testing_df = Filtered_data.randomSplit([0.6, 0.3, 0.1])\n",
    "rmse = fn.sqrt(fn.avg((fn.col('AIRTIME_DELAY') - fn.col('prediction'))**2))"
   ]
  },
  {
   "cell_type": "markdown",
   "metadata": {},
   "source": [
    "## Checking Whether String Indexer alone gives a good RMSE or with one hot encoding using some initial features"
   ]
  },
  {
   "cell_type": "markdown",
   "metadata": {},
   "source": [
    "## With feature Month and String Indexer "
   ]
  },
  {
   "cell_type": "code",
   "execution_count": 26,
   "metadata": {
    "slideshow": {
     "slide_type": "slide"
    }
   },
   "outputs": [],
   "source": [
    "model_f1 = Pipeline(stages=[\n",
    "      feature.StringIndexer(inputCol='MONTH', outputCol='encoded_M'),\n",
    "      feature.VectorAssembler(inputCols=['encoded_M'], outputCol='feature'),\n",
    "  regression.LinearRegression(featuresCol='feature', labelCol='AIRTIME_DELAY')  \n",
    "]).fit(training_df)"
   ]
  },
  {
   "cell_type": "code",
   "execution_count": 27,
   "metadata": {},
   "outputs": [
    {
     "name": "stdout",
     "output_type": "stream",
     "text": [
      "+-------------------------------------------------+\n",
      "|SQRT(avg(POWER((AIRTIME_DELAY - prediction), 2)))|\n",
      "+-------------------------------------------------+\n",
      "|                               12.889710437836447|\n",
      "+-------------------------------------------------+\n",
      "\n"
     ]
    }
   ],
   "source": [
    "model_f1.transform(validation_df).select(rmse).show()"
   ]
  },
  {
   "cell_type": "markdown",
   "metadata": {},
   "source": [
    "## With feature Month and One Hot Encoding\n"
   ]
  },
  {
   "cell_type": "code",
   "execution_count": 28,
   "metadata": {},
   "outputs": [],
   "source": [
    "model_f1_en = Pipeline(stages=[\n",
    "      feature.StringIndexer(inputCol='MONTH', outputCol='encoded_M'),\n",
    "      feature.OneHotEncoder(inputCol='encoded_M', outputCol='en_M', dropLast=False),\n",
    "      feature.VectorAssembler(inputCols=['en_M'], outputCol='feature'),\n",
    "  regression.LinearRegression(featuresCol='feature', labelCol='AIRTIME_DELAY')  \n",
    "]).fit(training_df)"
   ]
  },
  {
   "cell_type": "code",
   "execution_count": 29,
   "metadata": {},
   "outputs": [
    {
     "name": "stdout",
     "output_type": "stream",
     "text": [
      "+-------------------------------------------------+\n",
      "|SQRT(avg(POWER((AIRTIME_DELAY - prediction), 2)))|\n",
      "+-------------------------------------------------+\n",
      "|                               12.871540028517304|\n",
      "+-------------------------------------------------+\n",
      "\n"
     ]
    }
   ],
   "source": [
    "model_f1_en.transform(validation_df).select(rmse).show()"
   ]
  },
  {
   "cell_type": "markdown",
   "metadata": {},
   "source": [
    "## With feature DAY and String Indexer\n"
   ]
  },
  {
   "cell_type": "code",
   "execution_count": 30,
   "metadata": {},
   "outputs": [
    {
     "name": "stdout",
     "output_type": "stream",
     "text": [
      "+-------------------------------------------------+\n",
      "|SQRT(avg(POWER((AIRTIME_DELAY - prediction), 2)))|\n",
      "+-------------------------------------------------+\n",
      "|                                12.89016499611307|\n",
      "+-------------------------------------------------+\n",
      "\n"
     ]
    }
   ],
   "source": [
    "model_f2 = Pipeline(stages=[\n",
    "      feature.StringIndexer(inputCol='DAY', outputCol='encoded_D'),\n",
    "      feature.VectorAssembler(inputCols=['encoded_D'], outputCol='feature'),\n",
    "  regression.LinearRegression(featuresCol='feature', labelCol='AIRTIME_DELAY')  \n",
    "]).fit(training_df)\n",
    "model_f2.transform(validation_df).select(rmse).show()"
   ]
  },
  {
   "cell_type": "markdown",
   "metadata": {},
   "source": [
    "## With feature DAY and one hot encoder\n"
   ]
  },
  {
   "cell_type": "code",
   "execution_count": 31,
   "metadata": {},
   "outputs": [
    {
     "name": "stdout",
     "output_type": "stream",
     "text": [
      "+-------------------------------------------------+\n",
      "|SQRT(avg(POWER((AIRTIME_DELAY - prediction), 2)))|\n",
      "+-------------------------------------------------+\n",
      "|                               12.884169866849701|\n",
      "+-------------------------------------------------+\n",
      "\n"
     ]
    }
   ],
   "source": [
    "model_f2_en = Pipeline(stages=[\n",
    "      feature.StringIndexer(inputCol='DAY', outputCol='encoded_D'),\n",
    "      feature.OneHotEncoder(inputCol='encoded_D', outputCol='en_D', dropLast=False),\n",
    "      feature.VectorAssembler(inputCols=['en_D'], outputCol='feature'),\n",
    "  regression.LinearRegression(featuresCol='feature', labelCol='AIRTIME_DELAY')  \n",
    "]).fit(training_df)\n",
    "model_f2_en.transform(validation_df).select(rmse).show()"
   ]
  },
  {
   "cell_type": "markdown",
   "metadata": {},
   "source": [
    "## Seems Like One hot encoding results in a better result than just using indexing. We planned use One hot encoding from here on. "
   ]
  },
  {
   "cell_type": "markdown",
   "metadata": {},
   "source": [
    "## Trying different features to fit the data to find the best model"
   ]
  },
  {
   "cell_type": "code",
   "execution_count": 33,
   "metadata": {},
   "outputs": [
    {
     "name": "stdout",
     "output_type": "stream",
     "text": [
      "+-------------------------------------------------+\n",
      "|SQRT(avg(POWER((AIRTIME_DELAY - prediction), 2)))|\n",
      "+-------------------------------------------------+\n",
      "|                               12.881298707379852|\n",
      "+-------------------------------------------------+\n",
      "\n"
     ]
    }
   ],
   "source": [
    "# DAY of the week\n",
    "model_f3_en = Pipeline(stages=[\n",
    "      feature.StringIndexer(inputCol='DAY_OF_WEEK', outputCol='encoded_DOW'),\n",
    "      feature.OneHotEncoder(inputCol='encoded_DOW', outputCol='en_DOW', dropLast=False),\n",
    "      feature.VectorAssembler(inputCols=['en_DOW'], outputCol='feature'),\n",
    "  regression.LinearRegression(featuresCol='feature', labelCol='AIRTIME_DELAY')  \n",
    "]).fit(training_df)\n",
    "model_f3_en.transform(validation_df).select(rmse).show()"
   ]
  },
  {
   "cell_type": "code",
   "execution_count": 34,
   "metadata": {},
   "outputs": [
    {
     "name": "stdout",
     "output_type": "stream",
     "text": [
      "+-------------------------------------------------+\n",
      "|SQRT(avg(POWER((AIRTIME_DELAY - prediction), 2)))|\n",
      "+-------------------------------------------------+\n",
      "|                                12.66650782833711|\n",
      "+-------------------------------------------------+\n",
      "\n"
     ]
    }
   ],
   "source": [
    "# AIRLINE\n",
    "model_f4_en = Pipeline(stages=[\n",
    "      feature.StringIndexer(inputCol='AIRLINE', outputCol='encoded_AL'),\n",
    "      feature.OneHotEncoder(inputCol='encoded_AL', outputCol='en_AL', dropLast=False),\n",
    "      feature.VectorAssembler(inputCols=['en_AL'], outputCol='feature'),\n",
    "  regression.LinearRegression(featuresCol='feature', labelCol='AIRTIME_DELAY')  \n",
    "]).fit(training_df)\n",
    "model_f4_en.transform(validation_df).select(rmse).show()"
   ]
  },
  {
   "cell_type": "code",
   "execution_count": 35,
   "metadata": {},
   "outputs": [
    {
     "name": "stdout",
     "output_type": "stream",
     "text": [
      "+-------------------------------------------------+\n",
      "|SQRT(avg(POWER((AIRTIME_DELAY - prediction), 2)))|\n",
      "+-------------------------------------------------+\n",
      "|                               12.888080535505507|\n",
      "+-------------------------------------------------+\n",
      "\n"
     ]
    }
   ],
   "source": [
    "# Departure Time\n",
    "model_f5_en = Pipeline(stages=[\n",
    "      feature.StringIndexer(inputCol='DEPARTURE_TIME', outputCol='encoded_DT'),\n",
    "      feature.OneHotEncoder(inputCol='encoded_DT', outputCol='en_DT', dropLast=False),\n",
    "      feature.VectorAssembler(inputCols=['en_DT'], outputCol='feature'),\n",
    "  regression.LinearRegression(featuresCol='feature', labelCol='AIRTIME_DELAY')  \n",
    "]).fit(training_df)\n",
    "model_f5_en.transform(validation_df).select(rmse).show()"
   ]
  },
  {
   "cell_type": "code",
   "execution_count": 36,
   "metadata": {},
   "outputs": [
    {
     "name": "stdout",
     "output_type": "stream",
     "text": [
      "+-------------------------------------------------+\n",
      "|SQRT(avg(POWER((AIRTIME_DELAY - prediction), 2)))|\n",
      "+-------------------------------------------------+\n",
      "|                               12.888786698550662|\n",
      "+-------------------------------------------------+\n",
      "\n"
     ]
    }
   ],
   "source": [
    "# Arrival Time\n",
    "model_f6_en = Pipeline(stages=[\n",
    "      feature.StringIndexer(inputCol='ARRIVAL_TIME', outputCol='encoded_AT'),\n",
    "      feature.OneHotEncoder(inputCol='encoded_AT', outputCol='en_AT', dropLast=False),\n",
    "      feature.VectorAssembler(inputCols=['en_AT'], outputCol='feature'),\n",
    "  regression.LinearRegression(featuresCol='feature', labelCol='AIRTIME_DELAY')  \n",
    "]).fit(training_df)\n",
    "model_f6_en.transform(validation_df).select(rmse).show()"
   ]
  },
  {
   "cell_type": "code",
   "execution_count": 37,
   "metadata": {},
   "outputs": [
    {
     "name": "stdout",
     "output_type": "stream",
     "text": [
      "+-------------------------------------------------+\n",
      "|SQRT(avg(POWER((AIRTIME_DELAY - prediction), 2)))|\n",
      "+-------------------------------------------------+\n",
      "|                               12.787073753851367|\n",
      "+-------------------------------------------------+\n",
      "\n"
     ]
    }
   ],
   "source": [
    "# Origin Airport New\n",
    "model_f7_en = Pipeline(stages=[\n",
    "      feature.StringIndexer(inputCol='ORIGIN_AIRPORT_NEW', outputCol='encoded_OA'),\n",
    "      feature.OneHotEncoder(inputCol='encoded_OA', outputCol='en_OA', dropLast=False),\n",
    "      feature.VectorAssembler(inputCols=['en_OA'], outputCol='feature'),\n",
    "  regression.LinearRegression(featuresCol='feature', labelCol='AIRTIME_DELAY')  \n",
    "]).fit(training_df)\n",
    "model_f7_en.transform(validation_df).select(rmse).show()"
   ]
  },
  {
   "cell_type": "code",
   "execution_count": 38,
   "metadata": {},
   "outputs": [
    {
     "name": "stdout",
     "output_type": "stream",
     "text": [
      "+-------------------------------------------------+\n",
      "|SQRT(avg(POWER((AIRTIME_DELAY - prediction), 2)))|\n",
      "+-------------------------------------------------+\n",
      "|                               12.812591468901637|\n",
      "+-------------------------------------------------+\n",
      "\n"
     ]
    }
   ],
   "source": [
    "# Destination Airport New\n",
    "model_f8_en = Pipeline(stages=[\n",
    "      feature.StringIndexer(inputCol='DESTINATION_AIRPORT_NEW', outputCol='encoded_DA'),\n",
    "      feature.OneHotEncoder(inputCol='encoded_DA', outputCol='en_DA', dropLast=False),\n",
    "      feature.VectorAssembler(inputCols=['en_DA'], outputCol='feature'),\n",
    "  regression.LinearRegression(featuresCol='feature', labelCol='AIRTIME_DELAY')  \n",
    "]).fit(training_df)\n",
    "model_f8_en.transform(validation_df).select(rmse).show()"
   ]
  },
  {
   "cell_type": "code",
   "execution_count": 39,
   "metadata": {},
   "outputs": [],
   "source": [
    "# Combination of all Categorical features\n",
    "model_cat_comb = Pipeline(stages=[\n",
    "      feature.StringIndexer(inputCol='MONTH', outputCol='encoded_M'),\n",
    "      feature.OneHotEncoder(inputCol='encoded_M', outputCol='en_M', dropLast=False),\n",
    "      feature.StringIndexer(inputCol='DAY', outputCol='encoded_D'),\n",
    "      feature.OneHotEncoder(inputCol='encoded_D', outputCol='en_D', dropLast=False),\n",
    "      feature.StringIndexer(inputCol='DAY_OF_WEEK', outputCol='encoded_DOW'),\n",
    "      feature.OneHotEncoder(inputCol='encoded_DOW', outputCol='en_DOW', dropLast=False),\n",
    "      feature.StringIndexer(inputCol='AIRLINE', outputCol='encoded_AL'),\n",
    "      feature.OneHotEncoder(inputCol='encoded_AL', outputCol='en_AL', dropLast=False),\n",
    "      feature.StringIndexer(inputCol='DEPARTURE_TIME', outputCol='encoded_DT'),\n",
    "      feature.OneHotEncoder(inputCol='encoded_DT', outputCol='en_DT', dropLast=False),\n",
    "      feature.StringIndexer(inputCol='ARRIVAL_TIME', outputCol='encoded_AT'),\n",
    "      feature.OneHotEncoder(inputCol='encoded_AT', outputCol='en_AT', dropLast=False),\n",
    "      feature.StringIndexer(inputCol='ORIGIN_AIRPORT_NEW', outputCol='encoded_OA'),\n",
    "      feature.OneHotEncoder(inputCol='encoded_OA', outputCol='en_OA', dropLast=False),\n",
    "      feature.StringIndexer(inputCol='DESTINATION_AIRPORT_NEW', outputCol='encoded_DA'),\n",
    "      feature.OneHotEncoder(inputCol='encoded_DA', outputCol='en_DA', dropLast=False),\n",
    "      feature.VectorAssembler(inputCols=['en_M','en_D','en_DOW','en_AL','en_DT','en_AT','en_OA','en_DA'], outputCol='feature'),\n",
    "  regression.LinearRegression(featuresCol='feature', labelCol='AIRTIME_DELAY')  \n",
    "]).fit(training_df)"
   ]
  },
  {
   "cell_type": "code",
   "execution_count": 40,
   "metadata": {},
   "outputs": [
    {
     "name": "stdout",
     "output_type": "stream",
     "text": [
      "+-------------------------------------------------+\n",
      "|SQRT(avg(POWER((AIRTIME_DELAY - prediction), 2)))|\n",
      "+-------------------------------------------------+\n",
      "|                               12.532697961747143|\n",
      "+-------------------------------------------------+\n",
      "\n"
     ]
    }
   ],
   "source": [
    "model_cat_comb.transform(validation_df).select(rmse).show()"
   ]
  },
  {
   "cell_type": "code",
   "execution_count": 41,
   "metadata": {},
   "outputs": [],
   "source": [
    "model2 = Pipeline(stages=[\n",
    "  feature.StringIndexer(inputCol='MONTH', outputCol='encoded_M'),\n",
    "  feature.OneHotEncoder(inputCol='encoded_M', outputCol='en_M', dropLast=False),\n",
    "  feature.StringIndexer(inputCol='ORIGIN_AIRPORT_NEW', outputCol='encoded_OA'),\n",
    "  feature.OneHotEncoder(inputCol='encoded_OA', outputCol='en_OA', dropLast=False),\n",
    "  feature.VectorAssembler(inputCols=['en_M', 'en_OA'], outputCol='final_features'),\n",
    "  regression.LinearRegression(featuresCol='final_features', labelCol='AIRTIME_DELAY')  \n",
    "]).fit(training_df)"
   ]
  },
  {
   "cell_type": "code",
   "execution_count": 42,
   "metadata": {},
   "outputs": [
    {
     "name": "stdout",
     "output_type": "stream",
     "text": [
      "+-------------------------------------------------+\n",
      "|SQRT(avg(POWER((AIRTIME_DELAY - prediction), 2)))|\n",
      "+-------------------------------------------------+\n",
      "|                               12.770894644998577|\n",
      "+-------------------------------------------------+\n",
      "\n"
     ]
    }
   ],
   "source": [
    "model2.transform(validation_df).select(rmse).show()"
   ]
  },
  {
   "cell_type": "code",
   "execution_count": 43,
   "metadata": {},
   "outputs": [],
   "source": [
    "model3 = Pipeline(stages=[\n",
    "  feature.VectorAssembler(inputCols=['TAXI_OUT'], outputCol='features'),\n",
    "  regression.LinearRegression(featuresCol='features', labelCol='AIRTIME_DELAY')  \n",
    "]).fit(training_df)"
   ]
  },
  {
   "cell_type": "code",
   "execution_count": 44,
   "metadata": {},
   "outputs": [
    {
     "name": "stdout",
     "output_type": "stream",
     "text": [
      "+-------------------------------------------------+\n",
      "|SQRT(avg(POWER((AIRTIME_DELAY - prediction), 2)))|\n",
      "+-------------------------------------------------+\n",
      "|                                10.97160168176635|\n",
      "+-------------------------------------------------+\n",
      "\n"
     ]
    }
   ],
   "source": [
    "model3.transform(validation_df).select(rmse).show()"
   ]
  },
  {
   "cell_type": "code",
   "execution_count": 45,
   "metadata": {},
   "outputs": [],
   "source": [
    "model4 = Pipeline(stages=[\n",
    "  feature.VectorAssembler(inputCols=['TAXI_OUT','DISTANCE'], outputCol='features'),\n",
    "  regression.LinearRegression(featuresCol='features', labelCol='AIRTIME_DELAY')  \n",
    "]).fit(training_df)"
   ]
  },
  {
   "cell_type": "code",
   "execution_count": 46,
   "metadata": {},
   "outputs": [
    {
     "name": "stdout",
     "output_type": "stream",
     "text": [
      "+-------------------------------------------------+\n",
      "|SQRT(avg(POWER((AIRTIME_DELAY - prediction), 2)))|\n",
      "+-------------------------------------------------+\n",
      "|                               10.712160350142472|\n",
      "+-------------------------------------------------+\n",
      "\n"
     ]
    }
   ],
   "source": [
    "model4.transform(validation_df).select(rmse).show()"
   ]
  },
  {
   "cell_type": "code",
   "execution_count": 47,
   "metadata": {},
   "outputs": [],
   "source": [
    "model5 = Pipeline(stages=[\n",
    "  feature.VectorAssembler(inputCols=['TAXI_OUT','DISTANCE','TAXI_IN'], outputCol='features'),\n",
    "  regression.LinearRegression(featuresCol='features', labelCol='AIRTIME_DELAY')  \n",
    "]).fit(training_df)"
   ]
  },
  {
   "cell_type": "code",
   "execution_count": 48,
   "metadata": {
    "scrolled": true
   },
   "outputs": [
    {
     "name": "stdout",
     "output_type": "stream",
     "text": [
      "+-------------------------------------------------+\n",
      "|SQRT(avg(POWER((AIRTIME_DELAY - prediction), 2)))|\n",
      "+-------------------------------------------------+\n",
      "|                                 9.80294923518742|\n",
      "+-------------------------------------------------+\n",
      "\n"
     ]
    }
   ],
   "source": [
    "model5.transform(validation_df).select(rmse).show()"
   ]
  },
  {
   "cell_type": "code",
   "execution_count": 49,
   "metadata": {},
   "outputs": [],
   "source": [
    "model6 = Pipeline(stages=[\n",
    "  feature.VectorAssembler(inputCols=['TAXI_OUT','DISTANCE','TAXI_IN','DEPARTURE_DELAY'], outputCol='features'),\n",
    "  regression.LinearRegression(featuresCol='features', labelCol='AIRTIME_DELAY')  \n",
    "]).fit(training_df)"
   ]
  },
  {
   "cell_type": "code",
   "execution_count": 50,
   "metadata": {},
   "outputs": [
    {
     "name": "stdout",
     "output_type": "stream",
     "text": [
      "+-------------------------------------------------+\n",
      "|SQRT(avg(POWER((AIRTIME_DELAY - prediction), 2)))|\n",
      "+-------------------------------------------------+\n",
      "|                                9.800975173047783|\n",
      "+-------------------------------------------------+\n",
      "\n"
     ]
    }
   ],
   "source": [
    "model6.transform(validation_df).select(rmse).show()"
   ]
  },
  {
   "cell_type": "code",
   "execution_count": 52,
   "metadata": {},
   "outputs": [],
   "source": [
    "model7 = Pipeline(stages=[\n",
    "  feature.VectorAssembler(inputCols=['TAXI_OUT','DISTANCE','TAXI_IN','DEPARTURE_DELAY'], outputCol='features'),\n",
    "  feature.StringIndexer(inputCol='MONTH', outputCol='encoded_M'),\n",
    "  feature.OneHotEncoder(inputCol='encoded_M', outputCol='en_M', dropLast=False),\n",
    "  feature.VectorAssembler(inputCols=['features','en_M'], outputCol='final_features'),\n",
    "  regression.LinearRegression(featuresCol='final_features', labelCol='AIRTIME_DELAY')  \n",
    "]).fit(training_df)"
   ]
  },
  {
   "cell_type": "code",
   "execution_count": 53,
   "metadata": {},
   "outputs": [
    {
     "name": "stdout",
     "output_type": "stream",
     "text": [
      "+-------------------------------------------------+\n",
      "|SQRT(avg(POWER((AIRTIME_DELAY - prediction), 2)))|\n",
      "+-------------------------------------------------+\n",
      "|                                9.784353616283894|\n",
      "+-------------------------------------------------+\n",
      "\n"
     ]
    }
   ],
   "source": [
    "model7.transform(validation_df).select(rmse).show()"
   ]
  },
  {
   "cell_type": "code",
   "execution_count": 54,
   "metadata": {},
   "outputs": [],
   "source": [
    "model8 = Pipeline(stages=[\n",
    "  feature.VectorAssembler(inputCols=['TAXI_OUT','DISTANCE','TAXI_IN','DEPARTURE_DELAY'], outputCol='features'),\n",
    "  feature.StringIndexer(inputCol='MONTH', outputCol='encoded_M'),\n",
    "  feature.OneHotEncoder(inputCol='encoded_M', outputCol='en_M', dropLast=False),\n",
    "  feature.StringIndexer(inputCol='DAY_OF_WEEK', outputCol='encoded_DOW'),\n",
    "  feature.OneHotEncoder(inputCol='encoded_DOW', outputCol='en_DOW', dropLast=False),\n",
    "  feature.StringIndexer(inputCol='ORIGIN_AIRPORT_NEW', outputCol='encoded_OA'),\n",
    "  feature.OneHotEncoder(inputCol='encoded_OA', outputCol='en_OA', dropLast=False),\n",
    "  feature.VectorAssembler(inputCols=['features', 'en_M', 'en_DOW','en_OA'], outputCol='final_features'),\n",
    "  regression.LinearRegression(featuresCol='final_features', labelCol='AIRTIME_DELAY')  \n",
    "]).fit(training_df)"
   ]
  },
  {
   "cell_type": "code",
   "execution_count": 55,
   "metadata": {},
   "outputs": [
    {
     "name": "stdout",
     "output_type": "stream",
     "text": [
      "+-------------------------------------------------+\n",
      "|SQRT(avg(POWER((AIRTIME_DELAY - prediction), 2)))|\n",
      "+-------------------------------------------------+\n",
      "|                                9.163138982221279|\n",
      "+-------------------------------------------------+\n",
      "\n"
     ]
    }
   ],
   "source": [
    "model8.transform(validation_df).select(rmse).show()"
   ]
  },
  {
   "cell_type": "code",
   "execution_count": 56,
   "metadata": {},
   "outputs": [],
   "source": [
    "model9 = Pipeline(stages=[\n",
    "  feature.VectorAssembler(inputCols=['TAXI_OUT','DISTANCE','TAXI_IN','DEPARTURE_DELAY'], outputCol='features'),\n",
    "  feature.StringIndexer(inputCol='MONTH', outputCol='encoded_M'),\n",
    "  feature.OneHotEncoder(inputCol='encoded_M', outputCol='en_M', dropLast=False),\n",
    "  feature.StringIndexer(inputCol='DAY_OF_WEEK', outputCol='encoded_DOW'),\n",
    "  feature.OneHotEncoder(inputCol='encoded_DOW', outputCol='en_DOW', dropLast=False),\n",
    "  feature.StringIndexer(inputCol='AIRLINE', outputCol='encoded_AL'),\n",
    "  feature.OneHotEncoder(inputCol='encoded_AL', outputCol='en_AL', dropLast=False),\n",
    "  feature.StringIndexer(inputCol='ORIGIN_AIRPORT_NEW', outputCol='encoded_OA'),\n",
    "  feature.OneHotEncoder(inputCol='encoded_OA', outputCol='en_OA', dropLast=False),\n",
    "  feature.VectorAssembler(inputCols=['features', 'en_M', 'en_DOW', 'en_AL','en_OA'], outputCol='final_features'),\n",
    "  regression.LinearRegression(featuresCol='final_features', labelCol='AIRTIME_DELAY')  \n",
    "]).fit(training_df)"
   ]
  },
  {
   "cell_type": "code",
   "execution_count": 57,
   "metadata": {},
   "outputs": [
    {
     "name": "stdout",
     "output_type": "stream",
     "text": [
      "+-------------------------------------------------+\n",
      "|SQRT(avg(POWER((AIRTIME_DELAY - prediction), 2)))|\n",
      "+-------------------------------------------------+\n",
      "|                                8.899325564935374|\n",
      "+-------------------------------------------------+\n",
      "\n"
     ]
    }
   ],
   "source": [
    "model9.transform(validation_df).select(rmse).show()"
   ]
  },
  {
   "cell_type": "markdown",
   "metadata": {},
   "source": [
    "## Model below is the best model using Linear Regression as it gives the lowest RMSE\n",
    "##### The features used are:\n",
    "- TAXI_OUT: Time it takes the plane to go from the boarding gate to take-off area\n",
    "- DISTANCE: Distance covered by the flight\n",
    "- TAXI_IN: Time it takes the plane to go from the take-off area to arrival gate\n",
    "- MONTH: Month in which the flight was scheduled\n",
    "- DAY: Day of the month the flight was scheduled\n",
    "- DAY_OF_WEEK: Day of the week for which the flight was scheduled\n",
    "- AIRLINE: Name of airlines \n",
    "- DEPARTURE_TIME: Time of the day for which the flight is scheduled to depart\n",
    "- ARRIVAL_TIME: Time of the day for which the flight is scheduled to arrive\n",
    "- ORIGIN_AIRPORT_NEW: Airport from where the flight departed\n",
    "- DESTINATION_AIRPORT_NEW: Airport to which the flight landed"
   ]
  },
  {
   "cell_type": "code",
   "execution_count": 9,
   "metadata": {},
   "outputs": [],
   "source": [
    "# Combination of best output from numerical features and categorical features\n",
    "model_cat_num_comb = Pipeline(stages=[\n",
    "      feature.VectorAssembler(inputCols=['TAXI_OUT','DISTANCE','TAXI_IN','DEPARTURE_DELAY'], outputCol='features'),\n",
    "      feature.StringIndexer(inputCol='MONTH', outputCol='encoded_M'),\n",
    "      feature.OneHotEncoder(inputCol='encoded_M', outputCol='en_M', dropLast=False),\n",
    "      feature.StringIndexer(inputCol='DAY', outputCol='encoded_D'),\n",
    "      feature.OneHotEncoder(inputCol='encoded_D', outputCol='en_D', dropLast=False),\n",
    "      feature.StringIndexer(inputCol='DAY_OF_WEEK', outputCol='encoded_DOW'),\n",
    "      feature.OneHotEncoder(inputCol='encoded_DOW', outputCol='en_DOW', dropLast=False),\n",
    "      feature.StringIndexer(inputCol='AIRLINE', outputCol='encoded_AL'),\n",
    "      feature.OneHotEncoder(inputCol='encoded_AL', outputCol='en_AL', dropLast=False),\n",
    "      feature.StringIndexer(inputCol='DEPARTURE_TIME', outputCol='encoded_DT'),\n",
    "      feature.OneHotEncoder(inputCol='encoded_DT', outputCol='en_DT', dropLast=False),\n",
    "      feature.StringIndexer(inputCol='ARRIVAL_TIME', outputCol='encoded_AT'),\n",
    "      feature.OneHotEncoder(inputCol='encoded_AT', outputCol='en_AT', dropLast=False),\n",
    "      feature.StringIndexer(inputCol='ORIGIN_AIRPORT_NEW', outputCol='encoded_OA'),\n",
    "      feature.OneHotEncoder(inputCol='encoded_OA', outputCol='en_OA', dropLast=False),\n",
    "      feature.StringIndexer(inputCol='DESTINATION_AIRPORT_NEW', outputCol='encoded_DA'),\n",
    "      feature.OneHotEncoder(inputCol='encoded_DA', outputCol='en_DA', dropLast=False),\n",
    "      feature.VectorAssembler(inputCols=['features','en_M','en_D','en_DOW','en_AL','en_DT','en_AT','en_OA','en_DA'], \\\n",
    "                              outputCol='final_feature'),\n",
    "  regression.LinearRegression(featuresCol='final_feature', labelCol='AIRTIME_DELAY')  \n",
    "]).fit(training_df)"
   ]
  },
  {
   "cell_type": "code",
   "execution_count": 10,
   "metadata": {},
   "outputs": [
    {
     "name": "stdout",
     "output_type": "stream",
     "text": [
      "+-------------------------------------------------+\n",
      "|SQRT(avg(POWER((AIRTIME_DELAY - prediction), 2)))|\n",
      "+-------------------------------------------------+\n",
      "|                                8.703560192805943|\n",
      "+-------------------------------------------------+\n",
      "\n"
     ]
    }
   ],
   "source": [
    "model_cat_num_comb.transform(validation_df).select(rmse).show()"
   ]
  },
  {
   "cell_type": "code",
   "execution_count": 60,
   "metadata": {},
   "outputs": [
    {
     "name": "stdout",
     "output_type": "stream",
     "text": [
      "+-------------------------------------------------+\n",
      "|SQRT(avg(POWER((AIRTIME_DELAY - prediction), 2)))|\n",
      "+-------------------------------------------------+\n",
      "|                                8.710018414614652|\n",
      "+-------------------------------------------------+\n",
      "\n"
     ]
    }
   ],
   "source": [
    "model_cat_num_comb.transform(testing_df).select(rmse).show()"
   ]
  },
  {
   "cell_type": "markdown",
   "metadata": {},
   "source": [
    "# Regularization"
   ]
  },
  {
   "cell_type": "code",
   "execution_count": 11,
   "metadata": {},
   "outputs": [
    {
     "name": "stdout",
     "output_type": "stream",
     "text": [
      "+-------------------------------------------------+\n",
      "|SQRT(avg(POWER((AIRTIME_DELAY - prediction), 2)))|\n",
      "+-------------------------------------------------+\n",
      "|                                 8.70668872411899|\n",
      "+-------------------------------------------------+\n",
      "\n"
     ]
    }
   ],
   "source": [
    "model_cat_num_comb_reg1 = Pipeline(stages=[\n",
    "      feature.VectorAssembler(inputCols=['TAXI_OUT','DISTANCE','TAXI_IN','DEPARTURE_DELAY'], outputCol='features'),\n",
    "      feature.StringIndexer(inputCol='MONTH', outputCol='encoded_M'),\n",
    "      feature.OneHotEncoder(inputCol='encoded_M', outputCol='en_M', dropLast=False),\n",
    "      feature.StringIndexer(inputCol='DAY', outputCol='encoded_D'),\n",
    "      feature.OneHotEncoder(inputCol='encoded_D', outputCol='en_D', dropLast=False),\n",
    "      feature.StringIndexer(inputCol='DAY_OF_WEEK', outputCol='encoded_DOW'),\n",
    "      feature.OneHotEncoder(inputCol='encoded_DOW', outputCol='en_DOW', dropLast=False),\n",
    "      feature.StringIndexer(inputCol='AIRLINE', outputCol='encoded_AL'),\n",
    "      feature.OneHotEncoder(inputCol='encoded_AL', outputCol='en_AL', dropLast=False),\n",
    "      feature.StringIndexer(inputCol='DEPARTURE_TIME', outputCol='encoded_DT'),\n",
    "      feature.OneHotEncoder(inputCol='encoded_DT', outputCol='en_DT', dropLast=False),\n",
    "      feature.StringIndexer(inputCol='ARRIVAL_TIME', outputCol='encoded_AT'),\n",
    "      feature.OneHotEncoder(inputCol='encoded_AT', outputCol='en_AT', dropLast=False),\n",
    "      feature.StringIndexer(inputCol='ORIGIN_AIRPORT_NEW', outputCol='encoded_OA'),\n",
    "      feature.OneHotEncoder(inputCol='encoded_OA', outputCol='en_OA', dropLast=False),\n",
    "      feature.StringIndexer(inputCol='DESTINATION_AIRPORT_NEW', outputCol='encoded_DA'),\n",
    "      feature.OneHotEncoder(inputCol='encoded_DA', outputCol='en_DA', dropLast=False),\n",
    "      feature.VectorAssembler(inputCols=['features','en_M','en_D','en_DOW','en_AL','en_DT','en_AT','en_OA','en_DA'], outputCol='final_feature'),\n",
    "  regression.LinearRegression(featuresCol='final_feature', labelCol='AIRTIME_DELAY', regParam=0.02, elasticNetParam=0.4)  \n",
    "]).fit(training_df)\n",
    "model_cat_num_comb_reg1.transform(validation_df).select(rmse).show()"
   ]
  },
  {
   "cell_type": "code",
   "execution_count": 12,
   "metadata": {},
   "outputs": [
    {
     "name": "stdout",
     "output_type": "stream",
     "text": [
      "+-------------------------------------------------+\n",
      "|SQRT(avg(POWER((AIRTIME_DELAY - prediction), 2)))|\n",
      "+-------------------------------------------------+\n",
      "|                                  8.7150873868221|\n",
      "+-------------------------------------------------+\n",
      "\n"
     ]
    }
   ],
   "source": [
    "model_cat_num_comb_reg2 = Pipeline(stages=[\n",
    "      feature.VectorAssembler(inputCols=['TAXI_OUT','DISTANCE','TAXI_IN','DEPARTURE_DELAY'], outputCol='features'),\n",
    "      feature.StringIndexer(inputCol='MONTH', outputCol='encoded_M'),\n",
    "      feature.OneHotEncoder(inputCol='encoded_M', outputCol='en_M', dropLast=False),\n",
    "      feature.StringIndexer(inputCol='DAY', outputCol='encoded_D'),\n",
    "      feature.OneHotEncoder(inputCol='encoded_D', outputCol='en_D', dropLast=False),\n",
    "      feature.StringIndexer(inputCol='DAY_OF_WEEK', outputCol='encoded_DOW'),\n",
    "      feature.OneHotEncoder(inputCol='encoded_DOW', outputCol='en_DOW', dropLast=False),\n",
    "      feature.StringIndexer(inputCol='AIRLINE', outputCol='encoded_AL'),\n",
    "      feature.OneHotEncoder(inputCol='encoded_AL', outputCol='en_AL', dropLast=False),\n",
    "      feature.StringIndexer(inputCol='DEPARTURE_TIME', outputCol='encoded_DT'),\n",
    "      feature.OneHotEncoder(inputCol='encoded_DT', outputCol='en_DT', dropLast=False),\n",
    "      feature.StringIndexer(inputCol='ARRIVAL_TIME', outputCol='encoded_AT'),\n",
    "      feature.OneHotEncoder(inputCol='encoded_AT', outputCol='en_AT', dropLast=False),\n",
    "      feature.StringIndexer(inputCol='ORIGIN_AIRPORT_NEW', outputCol='encoded_OA'),\n",
    "      feature.OneHotEncoder(inputCol='encoded_OA', outputCol='en_OA', dropLast=False),\n",
    "      feature.StringIndexer(inputCol='DESTINATION_AIRPORT_NEW', outputCol='encoded_DA'),\n",
    "      feature.OneHotEncoder(inputCol='encoded_DA', outputCol='en_DA', dropLast=False),\n",
    "      feature.VectorAssembler(inputCols=['features','en_M','en_D','en_DOW','en_AL','en_DT','en_AT','en_OA','en_DA'], outputCol='final_feature'),\n",
    "  regression.LinearRegression(featuresCol='final_feature', labelCol='AIRTIME_DELAY', regParam=0.02, elasticNetParam=0.8)  \n",
    "]).fit(training_df)\n",
    "model_cat_num_comb_reg2.transform(validation_df).select(rmse).show()"
   ]
  },
  {
   "cell_type": "code",
   "execution_count": 64,
   "metadata": {},
   "outputs": [
    {
     "name": "stdout",
     "output_type": "stream",
     "text": [
      "+-------------------------------------------------+\n",
      "|SQRT(avg(POWER((AIRTIME_DELAY - prediction), 2)))|\n",
      "+-------------------------------------------------+\n",
      "|                                 8.71065613220068|\n",
      "+-------------------------------------------------+\n",
      "\n"
     ]
    }
   ],
   "source": [
    "model_cat_num_comb_reg3 = Pipeline(stages=[\n",
    "      feature.VectorAssembler(inputCols=['TAXI_OUT','DISTANCE','TAXI_IN','DEPARTURE_DELAY'], outputCol='features'),\n",
    "      feature.StringIndexer(inputCol='MONTH', outputCol='encoded_M'),\n",
    "      feature.OneHotEncoder(inputCol='encoded_M', outputCol='en_M', dropLast=False),\n",
    "      feature.StringIndexer(inputCol='DAY', outputCol='encoded_D'),\n",
    "      feature.OneHotEncoder(inputCol='encoded_D', outputCol='en_D', dropLast=False),\n",
    "      feature.StringIndexer(inputCol='DAY_OF_WEEK', outputCol='encoded_DOW'),\n",
    "      feature.OneHotEncoder(inputCol='encoded_DOW', outputCol='en_DOW', dropLast=False),\n",
    "      feature.StringIndexer(inputCol='AIRLINE', outputCol='encoded_AL'),\n",
    "      feature.OneHotEncoder(inputCol='encoded_AL', outputCol='en_AL', dropLast=False),\n",
    "      feature.StringIndexer(inputCol='DEPARTURE_TIME', outputCol='encoded_DT'),\n",
    "      feature.OneHotEncoder(inputCol='encoded_DT', outputCol='en_DT', dropLast=False),\n",
    "      feature.StringIndexer(inputCol='ARRIVAL_TIME', outputCol='encoded_AT'),\n",
    "      feature.OneHotEncoder(inputCol='encoded_AT', outputCol='en_AT', dropLast=False),\n",
    "      feature.StringIndexer(inputCol='ORIGIN_AIRPORT_NEW', outputCol='encoded_OA'),\n",
    "      feature.OneHotEncoder(inputCol='encoded_OA', outputCol='en_OA', dropLast=False),\n",
    "      feature.StringIndexer(inputCol='DESTINATION_AIRPORT_NEW', outputCol='encoded_DA'),\n",
    "      feature.OneHotEncoder(inputCol='encoded_DA', outputCol='en_DA', dropLast=False),\n",
    "      feature.VectorAssembler(inputCols=['features','en_M','en_D','en_DOW','en_AL','en_DT','en_AT','en_OA','en_DA'], outputCol='final_feature'),\n",
    "  regression.LinearRegression(featuresCol='final_feature', labelCol='AIRTIME_DELAY', regParam=0.01, elasticNetParam=0.4)  \n",
    "]).fit(training_df)\n",
    "model_cat_num_comb_reg3.transform(validation_df).select(rmse).show()"
   ]
  },
  {
   "cell_type": "code",
   "execution_count": 65,
   "metadata": {},
   "outputs": [
    {
     "name": "stdout",
     "output_type": "stream",
     "text": [
      "+-------------------------------------------------+\n",
      "|SQRT(avg(POWER((AIRTIME_DELAY - prediction), 2)))|\n",
      "+-------------------------------------------------+\n",
      "|                                8.713189942764199|\n",
      "+-------------------------------------------------+\n",
      "\n"
     ]
    }
   ],
   "source": [
    "model_cat_num_comb_reg4 = Pipeline(stages=[\n",
    "      feature.VectorAssembler(inputCols=['TAXI_OUT','DISTANCE','TAXI_IN','DEPARTURE_DELAY'], outputCol='features'),\n",
    "      feature.StringIndexer(inputCol='MONTH', outputCol='encoded_M'),\n",
    "      feature.OneHotEncoder(inputCol='encoded_M', outputCol='en_M', dropLast=False),\n",
    "      feature.StringIndexer(inputCol='DAY', outputCol='encoded_D'),\n",
    "      feature.OneHotEncoder(inputCol='encoded_D', outputCol='en_D', dropLast=False),\n",
    "      feature.StringIndexer(inputCol='DAY_OF_WEEK', outputCol='encoded_DOW'),\n",
    "      feature.OneHotEncoder(inputCol='encoded_DOW', outputCol='en_DOW', dropLast=False),\n",
    "      feature.StringIndexer(inputCol='AIRLINE', outputCol='encoded_AL'),\n",
    "      feature.OneHotEncoder(inputCol='encoded_AL', outputCol='en_AL', dropLast=False),\n",
    "      feature.StringIndexer(inputCol='DEPARTURE_TIME', outputCol='encoded_DT'),\n",
    "      feature.OneHotEncoder(inputCol='encoded_DT', outputCol='en_DT', dropLast=False),\n",
    "      feature.StringIndexer(inputCol='ARRIVAL_TIME', outputCol='encoded_AT'),\n",
    "      feature.OneHotEncoder(inputCol='encoded_AT', outputCol='en_AT', dropLast=False),\n",
    "      feature.StringIndexer(inputCol='ORIGIN_AIRPORT_NEW', outputCol='encoded_OA'),\n",
    "      feature.OneHotEncoder(inputCol='encoded_OA', outputCol='en_OA', dropLast=False),\n",
    "      feature.StringIndexer(inputCol='DESTINATION_AIRPORT_NEW', outputCol='encoded_DA'),\n",
    "      feature.OneHotEncoder(inputCol='encoded_DA', outputCol='en_DA', dropLast=False),\n",
    "      feature.VectorAssembler(inputCols=['features','en_M','en_D','en_DOW','en_AL','en_DT','en_AT','en_OA','en_DA'], outputCol='final_feature'),\n",
    "  regression.LinearRegression(featuresCol='final_feature', labelCol='AIRTIME_DELAY', regParam=0.01, elasticNetParam=0.8)  \n",
    "]).fit(training_df)\n",
    "model_cat_num_comb_reg4.transform(validation_df).select(rmse).show()"
   ]
  },
  {
   "cell_type": "code",
   "execution_count": 13,
   "metadata": {},
   "outputs": [
    {
     "name": "stdout",
     "output_type": "stream",
     "text": [
      "+-------------------------------------------------+\n",
      "|SQRT(avg(POWER((AIRTIME_DELAY - prediction), 2)))|\n",
      "+-------------------------------------------------+\n",
      "|                                8.710586061618798|\n",
      "+-------------------------------------------------+\n",
      "\n"
     ]
    }
   ],
   "source": [
    "model_cat_num_comb_reg5 = Pipeline(stages=[\n",
    "      feature.VectorAssembler(inputCols=['TAXI_OUT','DISTANCE','TAXI_IN','DEPARTURE_DELAY'], outputCol='features'),\n",
    "      feature.StringIndexer(inputCol='MONTH', outputCol='encoded_M'),\n",
    "      feature.OneHotEncoder(inputCol='encoded_M', outputCol='en_M', dropLast=False),\n",
    "      feature.StringIndexer(inputCol='DAY', outputCol='encoded_D'),\n",
    "      feature.OneHotEncoder(inputCol='encoded_D', outputCol='en_D', dropLast=False),\n",
    "      feature.StringIndexer(inputCol='DAY_OF_WEEK', outputCol='encoded_DOW'),\n",
    "      feature.OneHotEncoder(inputCol='encoded_DOW', outputCol='en_DOW', dropLast=False),\n",
    "      feature.StringIndexer(inputCol='AIRLINE', outputCol='encoded_AL'),\n",
    "      feature.OneHotEncoder(inputCol='encoded_AL', outputCol='en_AL', dropLast=False),\n",
    "      feature.StringIndexer(inputCol='DEPARTURE_TIME', outputCol='encoded_DT'),\n",
    "      feature.OneHotEncoder(inputCol='encoded_DT', outputCol='en_DT', dropLast=False),\n",
    "      feature.StringIndexer(inputCol='ARRIVAL_TIME', outputCol='encoded_AT'),\n",
    "      feature.OneHotEncoder(inputCol='encoded_AT', outputCol='en_AT', dropLast=False),\n",
    "      feature.StringIndexer(inputCol='ORIGIN_AIRPORT_NEW', outputCol='encoded_OA'),\n",
    "      feature.OneHotEncoder(inputCol='encoded_OA', outputCol='en_OA', dropLast=False),\n",
    "      feature.StringIndexer(inputCol='DESTINATION_AIRPORT_NEW', outputCol='encoded_DA'),\n",
    "      feature.OneHotEncoder(inputCol='encoded_DA', outputCol='en_DA', dropLast=False),\n",
    "      feature.VectorAssembler(inputCols=['features','en_M','en_D','en_DOW','en_AL','en_DT','en_AT','en_OA','en_DA'], outputCol='final_feature'),\n",
    "  regression.LinearRegression(featuresCol='final_feature', labelCol='AIRTIME_DELAY', regParam=0.03, elasticNetParam=0.4)  \n",
    "]).fit(training_df)\n",
    "model_cat_num_comb_reg5.transform(validation_df).select(rmse).show()"
   ]
  },
  {
   "cell_type": "code",
   "execution_count": 14,
   "metadata": {},
   "outputs": [
    {
     "name": "stdout",
     "output_type": "stream",
     "text": [
      "+-------------------------------------------------+\n",
      "|SQRT(avg(POWER((AIRTIME_DELAY - prediction), 2)))|\n",
      "+-------------------------------------------------+\n",
      "|                                8.727277658359764|\n",
      "+-------------------------------------------------+\n",
      "\n"
     ]
    }
   ],
   "source": [
    "model_cat_num_comb_reg6 = Pipeline(stages=[\n",
    "      feature.VectorAssembler(inputCols=['TAXI_OUT','DISTANCE','TAXI_IN','DEPARTURE_DELAY'], outputCol='features'),\n",
    "      feature.StringIndexer(inputCol='MONTH', outputCol='encoded_M'),\n",
    "      feature.OneHotEncoder(inputCol='encoded_M', outputCol='en_M', dropLast=False),\n",
    "      feature.StringIndexer(inputCol='DAY', outputCol='encoded_D'),\n",
    "      feature.OneHotEncoder(inputCol='encoded_D', outputCol='en_D', dropLast=False),\n",
    "      feature.StringIndexer(inputCol='DAY_OF_WEEK', outputCol='encoded_DOW'),\n",
    "      feature.OneHotEncoder(inputCol='encoded_DOW', outputCol='en_DOW', dropLast=False),\n",
    "      feature.StringIndexer(inputCol='AIRLINE', outputCol='encoded_AL'),\n",
    "      feature.OneHotEncoder(inputCol='encoded_AL', outputCol='en_AL', dropLast=False),\n",
    "      feature.StringIndexer(inputCol='DEPARTURE_TIME', outputCol='encoded_DT'),\n",
    "      feature.OneHotEncoder(inputCol='encoded_DT', outputCol='en_DT', dropLast=False),\n",
    "      feature.StringIndexer(inputCol='ARRIVAL_TIME', outputCol='encoded_AT'),\n",
    "      feature.OneHotEncoder(inputCol='encoded_AT', outputCol='en_AT', dropLast=False),\n",
    "      feature.StringIndexer(inputCol='ORIGIN_AIRPORT_NEW', outputCol='encoded_OA'),\n",
    "      feature.OneHotEncoder(inputCol='encoded_OA', outputCol='en_OA', dropLast=False),\n",
    "      feature.StringIndexer(inputCol='DESTINATION_AIRPORT_NEW', outputCol='encoded_DA'),\n",
    "      feature.OneHotEncoder(inputCol='encoded_DA', outputCol='en_DA', dropLast=False),\n",
    "      feature.VectorAssembler(inputCols=['features','en_M','en_D','en_DOW','en_AL','en_DT','en_AT','en_OA','en_DA'], outputCol='final_feature'),\n",
    "  regression.LinearRegression(featuresCol='final_feature', labelCol='AIRTIME_DELAY', regParam=0.03, elasticNetParam=0.8)  \n",
    "]).fit(training_df)\n",
    "model_cat_num_comb_reg6.transform(validation_df).select(rmse).show()"
   ]
  },
  {
   "cell_type": "markdown",
   "metadata": {},
   "source": [
    "#### Using Regularization the RMSE did not decrease further"
   ]
  },
  {
   "cell_type": "markdown",
   "metadata": {},
   "source": [
    "## Trying different Regression Algorithms\n",
    "\n",
    "## Decision Tree"
   ]
  },
  {
   "cell_type": "code",
   "execution_count": 70,
   "metadata": {},
   "outputs": [
    {
     "name": "stdout",
     "output_type": "stream",
     "text": [
      "+-------------------------------------------------+\n",
      "|SQRT(avg(POWER((AIRTIME_DELAY - prediction), 2)))|\n",
      "+-------------------------------------------------+\n",
      "|                               10.470143494576476|\n",
      "+-------------------------------------------------+\n",
      "\n"
     ]
    }
   ],
   "source": [
    "model_DT = Pipeline(stages=[\n",
    "      feature.VectorAssembler(inputCols=['TAXI_OUT','DISTANCE','TAXI_IN','DEPARTURE_DELAY'], outputCol='features'),\n",
    "      feature.StringIndexer(inputCol='MONTH', outputCol='encoded_M'),\n",
    "      feature.OneHotEncoder(inputCol='encoded_M', outputCol='en_M', dropLast=False),\n",
    "      feature.StringIndexer(inputCol='DAY', outputCol='encoded_D'),\n",
    "      feature.OneHotEncoder(inputCol='encoded_D', outputCol='en_D', dropLast=False),\n",
    "      feature.StringIndexer(inputCol='DAY_OF_WEEK', outputCol='encoded_DOW'),\n",
    "      feature.OneHotEncoder(inputCol='encoded_DOW', outputCol='en_DOW', dropLast=False),\n",
    "      feature.StringIndexer(inputCol='AIRLINE', outputCol='encoded_AL'),\n",
    "      feature.OneHotEncoder(inputCol='encoded_AL', outputCol='en_AL', dropLast=False),\n",
    "      feature.StringIndexer(inputCol='DEPARTURE_TIME', outputCol='encoded_DT'),\n",
    "      feature.OneHotEncoder(inputCol='encoded_DT', outputCol='en_DT', dropLast=False),\n",
    "      feature.StringIndexer(inputCol='ARRIVAL_TIME', outputCol='encoded_AT'),\n",
    "      feature.OneHotEncoder(inputCol='encoded_AT', outputCol='en_AT', dropLast=False),\n",
    "      feature.StringIndexer(inputCol='ORIGIN_AIRPORT_NEW', outputCol='encoded_OA'),\n",
    "      feature.OneHotEncoder(inputCol='encoded_OA', outputCol='en_OA', dropLast=False),\n",
    "      feature.StringIndexer(inputCol='DESTINATION_AIRPORT_NEW', outputCol='encoded_DA'),\n",
    "      feature.OneHotEncoder(inputCol='encoded_DA', outputCol='en_DA', dropLast=False),\n",
    "      feature.VectorAssembler(inputCols=['features','en_M','en_D','en_DOW','en_AL','en_DT','en_AT','en_OA','en_DA'], outputCol='final_feature'),\n",
    "  regression.DecisionTreeRegressor(featuresCol='final_feature', labelCol='AIRTIME_DELAY')  \n",
    "]).fit(training_df)\n",
    "model_DT.transform(validation_df).select(rmse).show()"
   ]
  },
  {
   "cell_type": "markdown",
   "metadata": {},
   "source": [
    "## Random Forest"
   ]
  },
  {
   "cell_type": "code",
   "execution_count": 71,
   "metadata": {},
   "outputs": [
    {
     "name": "stdout",
     "output_type": "stream",
     "text": [
      "+-------------------------------------------------+\n",
      "|SQRT(avg(POWER((AIRTIME_DELAY - prediction), 2)))|\n",
      "+-------------------------------------------------+\n",
      "|                               10.506743281840626|\n",
      "+-------------------------------------------------+\n",
      "\n"
     ]
    }
   ],
   "source": [
    "model_RF = Pipeline(stages=[\n",
    "      feature.VectorAssembler(inputCols=['TAXI_OUT','DISTANCE','TAXI_IN','DEPARTURE_DELAY'], outputCol='features'),\n",
    "      feature.StringIndexer(inputCol='MONTH', outputCol='encoded_M'),\n",
    "      feature.OneHotEncoder(inputCol='encoded_M', outputCol='en_M', dropLast=False),\n",
    "      feature.StringIndexer(inputCol='DAY', outputCol='encoded_D'),\n",
    "      feature.OneHotEncoder(inputCol='encoded_D', outputCol='en_D', dropLast=False),\n",
    "      feature.StringIndexer(inputCol='DAY_OF_WEEK', outputCol='encoded_DOW'),\n",
    "      feature.OneHotEncoder(inputCol='encoded_DOW', outputCol='en_DOW', dropLast=False),\n",
    "      feature.StringIndexer(inputCol='AIRLINE', outputCol='encoded_AL'),\n",
    "      feature.OneHotEncoder(inputCol='encoded_AL', outputCol='en_AL', dropLast=False),\n",
    "      feature.StringIndexer(inputCol='DEPARTURE_TIME', outputCol='encoded_DT'),\n",
    "      feature.OneHotEncoder(inputCol='encoded_DT', outputCol='en_DT', dropLast=False),\n",
    "      feature.StringIndexer(inputCol='ARRIVAL_TIME', outputCol='encoded_AT'),\n",
    "      feature.OneHotEncoder(inputCol='encoded_AT', outputCol='en_AT', dropLast=False),\n",
    "      feature.StringIndexer(inputCol='ORIGIN_AIRPORT_NEW', outputCol='encoded_OA'),\n",
    "      feature.OneHotEncoder(inputCol='encoded_OA', outputCol='en_OA', dropLast=False),\n",
    "      feature.StringIndexer(inputCol='DESTINATION_AIRPORT_NEW', outputCol='encoded_DA'),\n",
    "      feature.OneHotEncoder(inputCol='encoded_DA', outputCol='en_DA', dropLast=False),\n",
    "      feature.VectorAssembler(inputCols=['features','en_M','en_D','en_DOW','en_AL','en_DT','en_AT','en_OA','en_DA'], outputCol='final_feature'),\n",
    "  regression.RandomForestRegressor(featuresCol='final_feature', labelCol='AIRTIME_DELAY')  \n",
    "]).fit(training_df)\n",
    "model_RF.transform(validation_df).select(rmse).show()"
   ]
  },
  {
   "cell_type": "markdown",
   "metadata": {},
   "source": [
    "## Gradient Boosting"
   ]
  },
  {
   "cell_type": "code",
   "execution_count": 72,
   "metadata": {},
   "outputs": [
    {
     "name": "stdout",
     "output_type": "stream",
     "text": [
      "+-------------------------------------------------+\n",
      "|SQRT(avg(POWER((AIRTIME_DELAY - prediction), 2)))|\n",
      "+-------------------------------------------------+\n",
      "|                                 9.65404410154843|\n",
      "+-------------------------------------------------+\n",
      "\n"
     ]
    }
   ],
   "source": [
    "model_GB = Pipeline(stages=[\n",
    "      feature.VectorAssembler(inputCols=['TAXI_OUT','DISTANCE','TAXI_IN','DEPARTURE_DELAY'], outputCol='features'),\n",
    "      feature.StringIndexer(inputCol='MONTH', outputCol='encoded_M'),\n",
    "      feature.OneHotEncoder(inputCol='encoded_M', outputCol='en_M', dropLast=False),\n",
    "      feature.StringIndexer(inputCol='DAY', outputCol='encoded_D'),\n",
    "      feature.OneHotEncoder(inputCol='encoded_D', outputCol='en_D', dropLast=False),\n",
    "      feature.StringIndexer(inputCol='DAY_OF_WEEK', outputCol='encoded_DOW'),\n",
    "      feature.OneHotEncoder(inputCol='encoded_DOW', outputCol='en_DOW', dropLast=False),\n",
    "      feature.StringIndexer(inputCol='AIRLINE', outputCol='encoded_AL'),\n",
    "      feature.OneHotEncoder(inputCol='encoded_AL', outputCol='en_AL', dropLast=False),\n",
    "      feature.StringIndexer(inputCol='DEPARTURE_TIME', outputCol='encoded_DT'),\n",
    "      feature.OneHotEncoder(inputCol='encoded_DT', outputCol='en_DT', dropLast=False),\n",
    "      feature.StringIndexer(inputCol='ARRIVAL_TIME', outputCol='encoded_AT'),\n",
    "      feature.OneHotEncoder(inputCol='encoded_AT', outputCol='en_AT', dropLast=False),\n",
    "      feature.StringIndexer(inputCol='ORIGIN_AIRPORT_NEW', outputCol='encoded_OA'),\n",
    "      feature.OneHotEncoder(inputCol='encoded_OA', outputCol='en_OA', dropLast=False),\n",
    "      feature.StringIndexer(inputCol='DESTINATION_AIRPORT_NEW', outputCol='encoded_DA'),\n",
    "      feature.OneHotEncoder(inputCol='encoded_DA', outputCol='en_DA', dropLast=False),\n",
    "      feature.VectorAssembler(inputCols=['features','en_M','en_D','en_DOW','en_AL','en_DT','en_AT','en_OA','en_DA'], outputCol='final_feature'),\n",
    "  regression.GBTRegressor(featuresCol='final_feature', labelCol='AIRTIME_DELAY')  \n",
    "]).fit(training_df)\n",
    "model_GB.transform(validation_df).select(rmse).show()"
   ]
  },
  {
   "cell_type": "markdown",
   "metadata": {},
   "source": [
    "## Working on the Cofficients and finding cofficients for each feature"
   ]
  },
  {
   "cell_type": "code",
   "execution_count": 73,
   "metadata": {},
   "outputs": [
    {
     "data": {
      "text/plain": [
       "724"
      ]
     },
     "execution_count": 73,
     "metadata": {},
     "output_type": "execute_result"
    }
   ],
   "source": [
    "len(model_cat_num_comb.stages[-1].coefficients)"
   ]
  },
  {
   "cell_type": "code",
   "execution_count": 74,
   "metadata": {},
   "outputs": [
    {
     "data": {
      "text/plain": [
       "DenseVector([0.9507, -0.0035, 0.9074, -0.0047, -0.1613, -0.3348, 0.2246, 0.4241, 0.4915, -0.1708, 0.9231, -0.9042, -0.7848, -0.4033, 0.404, 0.2979, -0.2737, 0.0211, -0.1207, -0.0135, 0.3107, -0.0616, 0.1303, 0.0743, 0.1028, -0.0941, -0.2471, 0.5317, -0.0909, -0.0482, 0.154, 0.3347, 0.2124, -0.2783, 0.1343, -0.2123, -0.0224, -0.1016, 0.1062, 0.0933, 0.1471, 0.0973, 0.059, -0.1286, -0.4671, -0.2286, -0.2706, 0.2324, 0.0626, 0.0215, -0.0007, 0.0731, -0.2315, -0.2007, 1.6139, -1.8868, -1.1478, -1.1161, 0.3699, -2.8975, -1.5655, 2.679, 0.1591, 2.01, 4.5347, 3.764, 6.4845, 5.3868, 0.0924, -0.5046, 0.3007, -0.041, 0.6993, 0.0384, -0.4033, 0.0645, 0.3148, 0.6509, -0.1708, -2.5546, -3.3798, -0.4533, 0.6717, 0.9603, 1.978, -0.3732, -0.8493, 0.9646, -0.5833, 1.7394, 0.8672, -2.5771, -4.0272, -0.7106, -6.9289, 0.5284, -13.0346, -12.5192, -0.8463, -0.0176, -1.9642, -2.6627, 1.6942, -1.0284, -5.5296, 2.6486, 3.5482, 4.2739, 4.9235, 3.1198, 1.8583, 0.4955, 5.7726, 3.0335, 3.349, 4.0925, 5.4724, 6.0266, 3.7831, 0.1811, -1.1527, 0.8175, 3.2897, 1.0513, 3.2024, 0.8523, 0.3752, -0.7864, 1.0707, 3.4145, 4.6907, 2.7659, 4.4225, 4.5802, -0.0614, 4.3415, 1.6049, 2.9455, 0.0774, 3.6284, 4.7198, 4.3763, 0.2968, 1.1562, 2.8997, 5.0745, 1.6531, 4.1364, 5.26, 1.8149, 3.0484, -0.0641, 0.1949, 4.1655, 2.8285, 0.7276, 4.373, 1.6629, 4.3124, 3.9297, 3.3148, 3.7234, 1.7821, 2.7918, 3.6254, 6.1072, -1.7487, -1.4069, 1.0644, 1.1837, 5.8208, 4.0782, 2.6073, 2.5277, 0.2528, 3.1499, 2.4013, 1.2428, 3.3878, 3.2107, -1.6396, 0.754, 4.432, 1.6533, 6.7928, 2.2815, 0.4544, -2.3215, 2.9532, 2.1229, 3.4578, 4.1636, 6.4547, 0.5621, 5.0781, 4.6682, 1.9667, 1.7554, 6.1196, 2.9507, 0.9197, 0.46, 1.1422, 0.1964, -1.3399, 4.0162, 2.3118, 6.456, 5.4812, 5.9195, 2.5987, 4.4999, 4.017, 3.2922, 1.6227, 3.2034, 3.2407, -0.5186, 4.5206, 4.2103, 5.0559, 1.2158, 2.5095, 2.5217, 4.3074, 3.3085, 4.0373, 5.6584, 5.81, 5.3355, 3.9045, 5.6393, 0.3584, 3.7724, -0.3487, 2.4986, 5.7247, 0.9888, 6.5717, 4.1994, 5.1413, -3.412, 4.1556, 4.4889, 5.5793, 6.3172, 7.9039, 3.1973, 4.7042, 4.3143, 7.5591, 3.0912, 5.8345, 7.4042, 4.1551, 4.749, 5.8036, 6.2159, 5.5036, 3.2353, -0.1029, 2.6683, 3.0008, 0.6818, 5.168, 5.2589, 3.2776, 6.3095, 7.3638, 5.691, 5.8054, 1.4829, 3.1365, 3.4209, 1.5323, 1.1711, 3.2814, 1.2467, 0.2451, 3.8316, 5.1996, 5.0266, 4.2924, 5.9076, 7.9477, 2.0596, 5.1786, 3.6732, 3.5209, 1.6453, 4.1914, 7.4414, 2.2382, 6.2623, 8.4719, 7.025, 0.8128, -0.7526, 1.0583, 6.0485, 6.8161, 6.486, 7.2486, 7.402, 1.1365, 2.4724, 7.7831, -0.2768, 0.4125, 9.4132, 6.9879, 5.9043, 3.1132, -2.4878, 3.9698, 4.7066, 5.3707, 1.2006, 0.9225, 12.0201, 4.2021, 12.1623, 7.529, 10.6271, 7.9953, 7.5884, 3.9829, 4.5969, -0.7639, 1.9024, -1.9952, 5.5918, 0.5882, -0.3712, 12.3642, 0.9893, 1.4272, 1.2787, 1.6203, 10.7779, 11.5225, 4.6545, 1.2771, 7.7315, 10.6763, 10.5684, 1.8105, 1.126, 11.7873, 3.3529, 1.6581, 8.4114, 4.9019, 8.303, -3.345, 5.2056, 6.4847, 3.5505, 13.1647, -0.6656, -3.3795, 5.8756, 7.5366, 1.686, -0.7998, -1.0448, 0.9197, 5.7246, 2.9088, 3.8616, 9.7724, 10.7221, 2.6462, 8.8242, -3.7073, 5.3344, 12.4431, 2.7296, 6.6996, -1.3112, -7.0991, -2.9329, 6.478, 5.7629, 0.2311, 11.1957, 5.4488, -3.9778, -0.5983, 2.3406, -0.5241, 0.9125, 12.275, -5.4702, -4.2659, 13.6533, 1.4834, 11.4003, 2.8391, 12.1053, -8.072, -0.1708, -3.3313, -4.0406, -2.7763, -1.36, -3.4596, -1.6676, 0.3651, -0.0365, -0.7155, 1.4844, -0.0545, 0.4069, -0.4979, 1.2756, -0.4336, -2.7851, 0.4543, -1.3653, -3.6661, 0.0759, -1.0273, 1.2722, 2.5036, 2.2716, 1.4741, 0.2618, 2.7442, 0.9551, 0.549, 1.5182, 2.1428, 1.2388, 3.6106, -0.5113, 1.5445, 1.976, 2.3689, 1.2987, 1.9242, 1.5739, -0.2212, -0.1662, 3.185, 2.0619, 0.9954, 1.9241, 1.4428, 3.5789, 1.5188, 1.3832, 3.3112, 3.124, 1.4935, 1.224, 3.6262, 1.6723, 2.6019, 1.8467, 2.74, 2.4632, 2.0564, 2.4643, 2.4817, 2.0273, 1.8444, 2.5149, 1.5033, 3.971, 3.0523, 1.5671, 1.6828, 2.6118, 3.2047, 2.1034, 1.997, 2.1285, 2.5491, 1.0078, 2.7644, 1.045, 3.5459, 2.8593, 1.1053, 1.8545, 1.6419, 1.7671, 2.5434, 3.0485, 4.6547, 1.282, 1.6662, 4.303, 2.0931, 3.193, 1.2347, 4.7195, 0.9506, 3.718, 4.6003, 4.3583, 1.7504, 3.1614, 3.1817, 1.6891, 0.042, 3.0125, 3.3272, 2.199, 2.8407, 2.3877, 2.5466, 2.8392, 3.4937, 5.3094, 2.8272, 1.5368, 3.2901, 4.9025, 4.1106, 1.9614, 4.1332, 2.4787, 3.5933, 2.806, 2.1495, 3.2765, 3.7647, 3.8656, 3.8182, 2.3623, 2.773, 2.9574, 1.2928, 4.365, 0.8693, -0.5816, 4.3235, 2.5097, 3.1132, 3.5664, 4.2592, 1.4598, 5.5324, 4.8674, 2.0428, 2.1819, 5.8924, 1.477, 0.9321, 5.1011, 3.3695, 1.9184, 2.5227, 3.7924, 0.7414, 3.1689, 5.9018, 5.346, 2.0737, 3.1693, 1.2296, 2.4371, -1.1531, 0.9918, -1.1601, 4.7583, 5.2153, 1.9986, 3.5357, 1.0232, 1.609, 4.8973, 3.1092, 2.8393, 5.2785, 4.3069, 4.5989, 1.0275, 2.7178, 0.5658, -0.0832, 1.8225, 6.3851, 1.4325, 1.3824, -0.0702, 6.5923, 4.5635, 4.5696, 4.5959, 0.8494, 1.8879, 2.0495, 0.0854, 6.4034, 0.6931, 0.8156, 0.2314, 0.6729, 2.2001, 4.1545, 0.9738, 3.0822, 6.4158, 3.6361, 3.211, 5.0589, 3.0023, 0.5402, 5.4143, 2.1172, 5.1649, -0.5082, 4.9463, 1.7592, 1.4386, 4.28, 3.2369, 4.3074, 3.0053, 0.0147, 1.6525, 6.6678, 5.5566, -1.6308, 2.314, -2.8673, 3.4404, 4.5786, -2.7108, 8.0965, 3.5617, 4.3204, 4.6517, 6.4141, 1.2537, 3.6938, -1.0499, 5.2113, 2.8878, 4.1161, 2.941, 5.6128, 2.6497, 4.3514, 10.2395, -1.1356, 5.4436, 2.0739, 1.4086, -2.1398, -1.6282, 0.6352, 0.985, 2.8761, 1.7104, 1.1803, 2.3444, 1.5973, 5.1934, -1.4353, -0.2016, 1.7985, -2.0166, -2.2137, 4.2769, 2.7315, 3.2523, 4.9772, 1.3684, 4.8003, 4.2289, -3.8121, 0.7253, 2.5782, 1.6657, 2.8567, 5.4644, -0.2599, 2.2065, 3.4026, -3.0573, 3.5309, 1.7155, 6.2438, 6.9112, -1.5323, -2.4315, 0.1013, 13.6724, -2.5687, 3.2844, 2.2703, 8.1868, 2.7897, -1.171, 5.2015, 1.986, 5.2585, 1.4302, 9.4884, 3.554, 2.6438, 2.7905, 0.8123, 1.3006, 3.9113, 7.9519, -0.9899, 3.5019, -0.2345, -4.361, 3.2007, 1.2555, 3.677, 1.5104, 9.1082, 4.1816, 6.5218, 8.7401, 5.7094, -0.398])"
      ]
     },
     "execution_count": 74,
     "metadata": {},
     "output_type": "execute_result"
    }
   ],
   "source": [
    "coff =model_cat_num_comb.stages[-1].coefficients\n",
    "coff"
   ]
  },
  {
   "cell_type": "code",
   "execution_count": 75,
   "metadata": {},
   "outputs": [],
   "source": [
    "trial = Filtered_data.select('MONTH').toPandas()"
   ]
  },
  {
   "cell_type": "code",
   "execution_count": 163,
   "metadata": {},
   "outputs": [
    {
     "data": {
      "text/plain": [
       "array([ 1,  2,  3,  4,  5,  6,  7,  8,  9, 10, 11, 12], dtype=int64)"
      ]
     },
     "execution_count": 163,
     "metadata": {},
     "output_type": "execute_result"
    }
   ],
   "source": [
    "trial['MONTH'].unique()"
   ]
  },
  {
   "cell_type": "markdown",
   "metadata": {},
   "source": [
    "## TAXI_OUT ,DISTANCE ,TAXI_IN, DEPARTURE_DELAY"
   ]
  },
  {
   "cell_type": "code",
   "execution_count": 222,
   "metadata": {},
   "outputs": [
    {
     "data": {
      "text/html": [
       "<div>\n",
       "<style scoped>\n",
       "    .dataframe tbody tr th:only-of-type {\n",
       "        vertical-align: middle;\n",
       "    }\n",
       "\n",
       "    .dataframe tbody tr th {\n",
       "        vertical-align: top;\n",
       "    }\n",
       "\n",
       "    .dataframe thead th {\n",
       "        text-align: right;\n",
       "    }\n",
       "</style>\n",
       "<table border=\"1\" class=\"dataframe\">\n",
       "  <thead>\n",
       "    <tr style=\"text-align: right;\">\n",
       "      <th></th>\n",
       "      <th>TAXI_OUT</th>\n",
       "      <th>DISTANCE</th>\n",
       "      <th>TAXI_IN</th>\n",
       "      <th>DEPARTURE_DELAY</th>\n",
       "    </tr>\n",
       "  </thead>\n",
       "  <tbody>\n",
       "    <tr>\n",
       "      <th>0</th>\n",
       "      <td>0.950685</td>\n",
       "      <td>-0.003535</td>\n",
       "      <td>0.907444</td>\n",
       "      <td>-0.00473</td>\n",
       "    </tr>\n",
       "  </tbody>\n",
       "</table>\n",
       "</div>"
      ],
      "text/plain": [
       "   TAXI_OUT  DISTANCE   TAXI_IN  DEPARTURE_DELAY\n",
       "0  0.950685 -0.003535  0.907444         -0.00473"
      ]
     },
     "execution_count": 222,
     "metadata": {},
     "output_type": "execute_result"
    }
   ],
   "source": [
    "Num_feature = pd.DataFrame(\n",
    "    {'TAXI_OUT': [coff[0]],\n",
    "     'DISTANCE': [coff[1]],  \n",
    "     'TAXI_IN': [coff[2]],\n",
    "     'DEPARTURE_DELAY': [coff[3]],\n",
    "    })\n",
    "Num_feature"
   ]
  },
  {
   "cell_type": "markdown",
   "metadata": {},
   "source": [
    "## Coefficients for Months"
   ]
  },
  {
   "cell_type": "code",
   "execution_count": 223,
   "metadata": {},
   "outputs": [
    {
     "data": {
      "text/html": [
       "<div>\n",
       "<style scoped>\n",
       "    .dataframe tbody tr th:only-of-type {\n",
       "        vertical-align: middle;\n",
       "    }\n",
       "\n",
       "    .dataframe tbody tr th {\n",
       "        vertical-align: top;\n",
       "    }\n",
       "\n",
       "    .dataframe thead th {\n",
       "        text-align: right;\n",
       "    }\n",
       "</style>\n",
       "<table border=\"1\" class=\"dataframe\">\n",
       "  <thead>\n",
       "    <tr style=\"text-align: right;\">\n",
       "      <th></th>\n",
       "      <th>month</th>\n",
       "      <th>coefficients</th>\n",
       "    </tr>\n",
       "  </thead>\n",
       "  <tbody>\n",
       "    <tr>\n",
       "      <th>0</th>\n",
       "      <td>7</td>\n",
       "      <td>-0.161343</td>\n",
       "    </tr>\n",
       "    <tr>\n",
       "      <th>1</th>\n",
       "      <td>8</td>\n",
       "      <td>-0.334809</td>\n",
       "    </tr>\n",
       "    <tr>\n",
       "      <th>2</th>\n",
       "      <td>6</td>\n",
       "      <td>0.224558</td>\n",
       "    </tr>\n",
       "    <tr>\n",
       "      <th>3</th>\n",
       "      <td>3</td>\n",
       "      <td>0.424093</td>\n",
       "    </tr>\n",
       "    <tr>\n",
       "      <th>4</th>\n",
       "      <td>5</td>\n",
       "      <td>0.491515</td>\n",
       "    </tr>\n",
       "    <tr>\n",
       "      <th>5</th>\n",
       "      <td>10</td>\n",
       "      <td>-0.170806</td>\n",
       "    </tr>\n",
       "    <tr>\n",
       "      <th>6</th>\n",
       "      <td>4</td>\n",
       "      <td>0.923134</td>\n",
       "    </tr>\n",
       "    <tr>\n",
       "      <th>7</th>\n",
       "      <td>12</td>\n",
       "      <td>-0.904163</td>\n",
       "    </tr>\n",
       "    <tr>\n",
       "      <th>8</th>\n",
       "      <td>11</td>\n",
       "      <td>-0.784785</td>\n",
       "    </tr>\n",
       "    <tr>\n",
       "      <th>9</th>\n",
       "      <td>9</td>\n",
       "      <td>-0.403346</td>\n",
       "    </tr>\n",
       "    <tr>\n",
       "      <th>10</th>\n",
       "      <td>1</td>\n",
       "      <td>0.404015</td>\n",
       "    </tr>\n",
       "    <tr>\n",
       "      <th>11</th>\n",
       "      <td>2</td>\n",
       "      <td>0.297886</td>\n",
       "    </tr>\n",
       "  </tbody>\n",
       "</table>\n",
       "</div>"
      ],
      "text/plain": [
       "   month  coefficients\n",
       "0      7     -0.161343\n",
       "1      8     -0.334809\n",
       "2      6      0.224558\n",
       "3      3      0.424093\n",
       "4      5      0.491515\n",
       "5     10     -0.170806\n",
       "6      4      0.923134\n",
       "7     12     -0.904163\n",
       "8     11     -0.784785\n",
       "9      9     -0.403346\n",
       "10     1      0.404015\n",
       "11     2      0.297886"
      ]
     },
     "execution_count": 223,
     "metadata": {},
     "output_type": "execute_result"
    }
   ],
   "source": [
    "#month_index\n",
    "month = model_cat_num_comb.stages[1].labels\n",
    "month_coefficients= coff[4:16]\n",
    "month_performance = pd.DataFrame(\n",
    "    {'month': month,\n",
    "     'coefficients': month_coefficients,\n",
    "    })\n",
    "month_performance"
   ]
  },
  {
   "cell_type": "markdown",
   "metadata": {},
   "source": [
    "## Coefficients for Day"
   ]
  },
  {
   "cell_type": "code",
   "execution_count": 180,
   "metadata": {},
   "outputs": [
    {
     "data": {
      "text/html": [
       "<div>\n",
       "<style scoped>\n",
       "    .dataframe tbody tr th:only-of-type {\n",
       "        vertical-align: middle;\n",
       "    }\n",
       "\n",
       "    .dataframe tbody tr th {\n",
       "        vertical-align: top;\n",
       "    }\n",
       "\n",
       "    .dataframe thead th {\n",
       "        text-align: right;\n",
       "    }\n",
       "</style>\n",
       "<table border=\"1\" class=\"dataframe\">\n",
       "  <thead>\n",
       "    <tr style=\"text-align: right;\">\n",
       "      <th></th>\n",
       "      <th>day</th>\n",
       "      <th>coefficients</th>\n",
       "    </tr>\n",
       "  </thead>\n",
       "  <tbody>\n",
       "    <tr>\n",
       "      <th>0</th>\n",
       "      <td>13</td>\n",
       "      <td>-0.273685</td>\n",
       "    </tr>\n",
       "    <tr>\n",
       "      <th>1</th>\n",
       "      <td>20</td>\n",
       "      <td>0.021067</td>\n",
       "    </tr>\n",
       "    <tr>\n",
       "      <th>2</th>\n",
       "      <td>19</td>\n",
       "      <td>-0.120662</td>\n",
       "    </tr>\n",
       "    <tr>\n",
       "      <th>3</th>\n",
       "      <td>16</td>\n",
       "      <td>-0.013524</td>\n",
       "    </tr>\n",
       "    <tr>\n",
       "      <th>4</th>\n",
       "      <td>2</td>\n",
       "      <td>0.310720</td>\n",
       "    </tr>\n",
       "    <tr>\n",
       "      <th>5</th>\n",
       "      <td>8</td>\n",
       "      <td>-0.061648</td>\n",
       "    </tr>\n",
       "    <tr>\n",
       "      <th>6</th>\n",
       "      <td>9</td>\n",
       "      <td>0.130267</td>\n",
       "    </tr>\n",
       "    <tr>\n",
       "      <th>7</th>\n",
       "      <td>22</td>\n",
       "      <td>0.074284</td>\n",
       "    </tr>\n",
       "    <tr>\n",
       "      <th>8</th>\n",
       "      <td>23</td>\n",
       "      <td>0.102847</td>\n",
       "    </tr>\n",
       "    <tr>\n",
       "      <th>9</th>\n",
       "      <td>12</td>\n",
       "      <td>-0.094075</td>\n",
       "    </tr>\n",
       "    <tr>\n",
       "      <th>10</th>\n",
       "      <td>6</td>\n",
       "      <td>-0.247090</td>\n",
       "    </tr>\n",
       "    <tr>\n",
       "      <th>11</th>\n",
       "      <td>18</td>\n",
       "      <td>0.531749</td>\n",
       "    </tr>\n",
       "    <tr>\n",
       "      <th>12</th>\n",
       "      <td>15</td>\n",
       "      <td>-0.090926</td>\n",
       "    </tr>\n",
       "    <tr>\n",
       "      <th>13</th>\n",
       "      <td>11</td>\n",
       "      <td>-0.048249</td>\n",
       "    </tr>\n",
       "    <tr>\n",
       "      <th>14</th>\n",
       "      <td>17</td>\n",
       "      <td>0.153955</td>\n",
       "    </tr>\n",
       "    <tr>\n",
       "      <th>15</th>\n",
       "      <td>4</td>\n",
       "      <td>0.334712</td>\n",
       "    </tr>\n",
       "    <tr>\n",
       "      <th>16</th>\n",
       "      <td>3</td>\n",
       "      <td>0.212367</td>\n",
       "    </tr>\n",
       "    <tr>\n",
       "      <th>17</th>\n",
       "      <td>28</td>\n",
       "      <td>-0.278252</td>\n",
       "    </tr>\n",
       "    <tr>\n",
       "      <th>18</th>\n",
       "      <td>10</td>\n",
       "      <td>0.134254</td>\n",
       "    </tr>\n",
       "    <tr>\n",
       "      <th>19</th>\n",
       "      <td>14</td>\n",
       "      <td>-0.212324</td>\n",
       "    </tr>\n",
       "    <tr>\n",
       "      <th>20</th>\n",
       "      <td>21</td>\n",
       "      <td>-0.022438</td>\n",
       "    </tr>\n",
       "    <tr>\n",
       "      <th>21</th>\n",
       "      <td>7</td>\n",
       "      <td>-0.101581</td>\n",
       "    </tr>\n",
       "    <tr>\n",
       "      <th>22</th>\n",
       "      <td>27</td>\n",
       "      <td>0.106161</td>\n",
       "    </tr>\n",
       "    <tr>\n",
       "      <th>23</th>\n",
       "      <td>5</td>\n",
       "      <td>0.093293</td>\n",
       "    </tr>\n",
       "    <tr>\n",
       "      <th>24</th>\n",
       "      <td>25</td>\n",
       "      <td>0.147145</td>\n",
       "    </tr>\n",
       "    <tr>\n",
       "      <th>25</th>\n",
       "      <td>1</td>\n",
       "      <td>0.097295</td>\n",
       "    </tr>\n",
       "    <tr>\n",
       "      <th>26</th>\n",
       "      <td>26</td>\n",
       "      <td>0.059000</td>\n",
       "    </tr>\n",
       "    <tr>\n",
       "      <th>27</th>\n",
       "      <td>24</td>\n",
       "      <td>-0.128573</td>\n",
       "    </tr>\n",
       "    <tr>\n",
       "      <th>28</th>\n",
       "      <td>29</td>\n",
       "      <td>-0.467065</td>\n",
       "    </tr>\n",
       "    <tr>\n",
       "      <th>29</th>\n",
       "      <td>30</td>\n",
       "      <td>-0.228594</td>\n",
       "    </tr>\n",
       "    <tr>\n",
       "      <th>30</th>\n",
       "      <td>31</td>\n",
       "      <td>-0.270596</td>\n",
       "    </tr>\n",
       "  </tbody>\n",
       "</table>\n",
       "</div>"
      ],
      "text/plain": [
       "   day  coefficients\n",
       "0   13     -0.273685\n",
       "1   20      0.021067\n",
       "2   19     -0.120662\n",
       "3   16     -0.013524\n",
       "4    2      0.310720\n",
       "5    8     -0.061648\n",
       "6    9      0.130267\n",
       "7   22      0.074284\n",
       "8   23      0.102847\n",
       "9   12     -0.094075\n",
       "10   6     -0.247090\n",
       "11  18      0.531749\n",
       "12  15     -0.090926\n",
       "13  11     -0.048249\n",
       "14  17      0.153955\n",
       "15   4      0.334712\n",
       "16   3      0.212367\n",
       "17  28     -0.278252\n",
       "18  10      0.134254\n",
       "19  14     -0.212324\n",
       "20  21     -0.022438\n",
       "21   7     -0.101581\n",
       "22  27      0.106161\n",
       "23   5      0.093293\n",
       "24  25      0.147145\n",
       "25   1      0.097295\n",
       "26  26      0.059000\n",
       "27  24     -0.128573\n",
       "28  29     -0.467065\n",
       "29  30     -0.228594\n",
       "30  31     -0.270596"
      ]
     },
     "execution_count": 180,
     "metadata": {},
     "output_type": "execute_result"
    }
   ],
   "source": [
    "day = model_cat_num_comb.stages[3].labels\n",
    "day_coefficients= coff[16:47]\n",
    "day_performance = pd.DataFrame(\n",
    "    {'day': day,\n",
    "     'coefficients': day_coefficients,\n",
    "    })\n",
    "day_performance"
   ]
  },
  {
   "cell_type": "markdown",
   "metadata": {},
   "source": [
    "## Coefficients for Day of the Week"
   ]
  },
  {
   "cell_type": "code",
   "execution_count": 181,
   "metadata": {},
   "outputs": [
    {
     "data": {
      "text/html": [
       "<div>\n",
       "<style scoped>\n",
       "    .dataframe tbody tr th:only-of-type {\n",
       "        vertical-align: middle;\n",
       "    }\n",
       "\n",
       "    .dataframe tbody tr th {\n",
       "        vertical-align: top;\n",
       "    }\n",
       "\n",
       "    .dataframe thead th {\n",
       "        text-align: right;\n",
       "    }\n",
       "</style>\n",
       "<table border=\"1\" class=\"dataframe\">\n",
       "  <thead>\n",
       "    <tr style=\"text-align: right;\">\n",
       "      <th></th>\n",
       "      <th>day_o_w</th>\n",
       "      <th>coefficients</th>\n",
       "    </tr>\n",
       "  </thead>\n",
       "  <tbody>\n",
       "    <tr>\n",
       "      <th>0</th>\n",
       "      <td>4</td>\n",
       "      <td>0.232384</td>\n",
       "    </tr>\n",
       "    <tr>\n",
       "      <th>1</th>\n",
       "      <td>5</td>\n",
       "      <td>0.062621</td>\n",
       "    </tr>\n",
       "    <tr>\n",
       "      <th>2</th>\n",
       "      <td>3</td>\n",
       "      <td>0.021451</td>\n",
       "    </tr>\n",
       "    <tr>\n",
       "      <th>3</th>\n",
       "      <td>1</td>\n",
       "      <td>-0.000687</td>\n",
       "    </tr>\n",
       "    <tr>\n",
       "      <th>4</th>\n",
       "      <td>2</td>\n",
       "      <td>0.073082</td>\n",
       "    </tr>\n",
       "    <tr>\n",
       "      <th>5</th>\n",
       "      <td>7</td>\n",
       "      <td>-0.231515</td>\n",
       "    </tr>\n",
       "    <tr>\n",
       "      <th>6</th>\n",
       "      <td>6</td>\n",
       "      <td>-0.200723</td>\n",
       "    </tr>\n",
       "  </tbody>\n",
       "</table>\n",
       "</div>"
      ],
      "text/plain": [
       "  day_o_w  coefficients\n",
       "0       4      0.232384\n",
       "1       5      0.062621\n",
       "2       3      0.021451\n",
       "3       1     -0.000687\n",
       "4       2      0.073082\n",
       "5       7     -0.231515\n",
       "6       6     -0.200723"
      ]
     },
     "execution_count": 181,
     "metadata": {},
     "output_type": "execute_result"
    }
   ],
   "source": [
    "day_o_w = model_cat_num_comb.stages[5].labels\n",
    "day_o_w_coefficients= coff[47:54]\n",
    "day_o_w_performance = pd.DataFrame(\n",
    "    {'day_o_w': day_o_w,\n",
    "     'coefficients': day_o_w_coefficients,\n",
    "    })\n",
    "day_o_w_performance"
   ]
  },
  {
   "cell_type": "markdown",
   "metadata": {},
   "source": [
    "## Coefficients for Airline"
   ]
  },
  {
   "cell_type": "code",
   "execution_count": 182,
   "metadata": {},
   "outputs": [
    {
     "data": {
      "text/html": [
       "<div>\n",
       "<style scoped>\n",
       "    .dataframe tbody tr th:only-of-type {\n",
       "        vertical-align: middle;\n",
       "    }\n",
       "\n",
       "    .dataframe tbody tr th {\n",
       "        vertical-align: top;\n",
       "    }\n",
       "\n",
       "    .dataframe thead th {\n",
       "        text-align: right;\n",
       "    }\n",
       "</style>\n",
       "<table border=\"1\" class=\"dataframe\">\n",
       "  <thead>\n",
       "    <tr style=\"text-align: right;\">\n",
       "      <th></th>\n",
       "      <th>airline</th>\n",
       "      <th>coefficients</th>\n",
       "    </tr>\n",
       "  </thead>\n",
       "  <tbody>\n",
       "    <tr>\n",
       "      <th>0</th>\n",
       "      <td>WN</td>\n",
       "      <td>1.613936</td>\n",
       "    </tr>\n",
       "    <tr>\n",
       "      <th>1</th>\n",
       "      <td>DL</td>\n",
       "      <td>-1.886804</td>\n",
       "    </tr>\n",
       "    <tr>\n",
       "      <th>2</th>\n",
       "      <td>AA</td>\n",
       "      <td>-1.147834</td>\n",
       "    </tr>\n",
       "    <tr>\n",
       "      <th>3</th>\n",
       "      <td>OO</td>\n",
       "      <td>-1.116108</td>\n",
       "    </tr>\n",
       "    <tr>\n",
       "      <th>4</th>\n",
       "      <td>EV</td>\n",
       "      <td>0.369858</td>\n",
       "    </tr>\n",
       "    <tr>\n",
       "      <th>5</th>\n",
       "      <td>UA</td>\n",
       "      <td>-2.897489</td>\n",
       "    </tr>\n",
       "    <tr>\n",
       "      <th>6</th>\n",
       "      <td>MQ</td>\n",
       "      <td>-1.565517</td>\n",
       "    </tr>\n",
       "    <tr>\n",
       "      <th>7</th>\n",
       "      <td>B6</td>\n",
       "      <td>2.678992</td>\n",
       "    </tr>\n",
       "    <tr>\n",
       "      <th>8</th>\n",
       "      <td>US</td>\n",
       "      <td>0.159054</td>\n",
       "    </tr>\n",
       "    <tr>\n",
       "      <th>9</th>\n",
       "      <td>AS</td>\n",
       "      <td>2.009964</td>\n",
       "    </tr>\n",
       "    <tr>\n",
       "      <th>10</th>\n",
       "      <td>NK</td>\n",
       "      <td>4.534671</td>\n",
       "    </tr>\n",
       "    <tr>\n",
       "      <th>11</th>\n",
       "      <td>F9</td>\n",
       "      <td>3.763962</td>\n",
       "    </tr>\n",
       "    <tr>\n",
       "      <th>12</th>\n",
       "      <td>HA</td>\n",
       "      <td>6.484452</td>\n",
       "    </tr>\n",
       "    <tr>\n",
       "      <th>13</th>\n",
       "      <td>VX</td>\n",
       "      <td>5.386803</td>\n",
       "    </tr>\n",
       "  </tbody>\n",
       "</table>\n",
       "</div>"
      ],
      "text/plain": [
       "   airline  coefficients\n",
       "0       WN      1.613936\n",
       "1       DL     -1.886804\n",
       "2       AA     -1.147834\n",
       "3       OO     -1.116108\n",
       "4       EV      0.369858\n",
       "5       UA     -2.897489\n",
       "6       MQ     -1.565517\n",
       "7       B6      2.678992\n",
       "8       US      0.159054\n",
       "9       AS      2.009964\n",
       "10      NK      4.534671\n",
       "11      F9      3.763962\n",
       "12      HA      6.484452\n",
       "13      VX      5.386803"
      ]
     },
     "execution_count": 182,
     "metadata": {},
     "output_type": "execute_result"
    }
   ],
   "source": [
    "airline = model_cat_num_comb.stages[7].labels\n",
    "airline_coefficients= coff[54:68]\n",
    "airline_performance = pd.DataFrame(\n",
    "    {'airline': airline,\n",
    "     'coefficients': airline_coefficients,\n",
    "    })\n",
    "airline_performance"
   ]
  },
  {
   "cell_type": "markdown",
   "metadata": {},
   "source": [
    "## Coefficients for Departure Time"
   ]
  },
  {
   "cell_type": "code",
   "execution_count": 184,
   "metadata": {},
   "outputs": [
    {
     "data": {
      "text/html": [
       "<div>\n",
       "<style scoped>\n",
       "    .dataframe tbody tr th:only-of-type {\n",
       "        vertical-align: middle;\n",
       "    }\n",
       "\n",
       "    .dataframe tbody tr th {\n",
       "        vertical-align: top;\n",
       "    }\n",
       "\n",
       "    .dataframe thead th {\n",
       "        text-align: right;\n",
       "    }\n",
       "</style>\n",
       "<table border=\"1\" class=\"dataframe\">\n",
       "  <thead>\n",
       "    <tr style=\"text-align: right;\">\n",
       "      <th></th>\n",
       "      <th>TIME</th>\n",
       "      <th>coefficients</th>\n",
       "    </tr>\n",
       "  </thead>\n",
       "  <tbody>\n",
       "    <tr>\n",
       "      <th>0</th>\n",
       "      <td>Morning</td>\n",
       "      <td>0.092380</td>\n",
       "    </tr>\n",
       "    <tr>\n",
       "      <th>1</th>\n",
       "      <td>Evening</td>\n",
       "      <td>-0.504638</td>\n",
       "    </tr>\n",
       "    <tr>\n",
       "      <th>2</th>\n",
       "      <td>Afternoon</td>\n",
       "      <td>0.300722</td>\n",
       "    </tr>\n",
       "    <tr>\n",
       "      <th>3</th>\n",
       "      <td>Night</td>\n",
       "      <td>-0.040978</td>\n",
       "    </tr>\n",
       "    <tr>\n",
       "      <th>4</th>\n",
       "      <td>Early_Morning</td>\n",
       "      <td>0.699330</td>\n",
       "    </tr>\n",
       "  </tbody>\n",
       "</table>\n",
       "</div>"
      ],
      "text/plain": [
       "            TIME  coefficients\n",
       "0        Morning      0.092380\n",
       "1        Evening     -0.504638\n",
       "2      Afternoon      0.300722\n",
       "3          Night     -0.040978\n",
       "4  Early_Morning      0.699330"
      ]
     },
     "execution_count": 184,
     "metadata": {},
     "output_type": "execute_result"
    }
   ],
   "source": [
    "DT = model_cat_num_comb.stages[9].labels\n",
    "DT_coefficients= coff[68:73]\n",
    "DT_performance = pd.DataFrame(\n",
    "    {'TIME': DT,\n",
    "     'coefficients': DT_coefficients,\n",
    "    })\n",
    "DT_performance"
   ]
  },
  {
   "cell_type": "markdown",
   "metadata": {},
   "source": [
    "## Coefficients for Arrival Time"
   ]
  },
  {
   "cell_type": "code",
   "execution_count": 185,
   "metadata": {},
   "outputs": [
    {
     "data": {
      "text/html": [
       "<div>\n",
       "<style scoped>\n",
       "    .dataframe tbody tr th:only-of-type {\n",
       "        vertical-align: middle;\n",
       "    }\n",
       "\n",
       "    .dataframe tbody tr th {\n",
       "        vertical-align: top;\n",
       "    }\n",
       "\n",
       "    .dataframe thead th {\n",
       "        text-align: right;\n",
       "    }\n",
       "</style>\n",
       "<table border=\"1\" class=\"dataframe\">\n",
       "  <thead>\n",
       "    <tr style=\"text-align: right;\">\n",
       "      <th></th>\n",
       "      <th>TIME</th>\n",
       "      <th>coefficients</th>\n",
       "    </tr>\n",
       "  </thead>\n",
       "  <tbody>\n",
       "    <tr>\n",
       "      <th>0</th>\n",
       "      <td>Evening</td>\n",
       "      <td>0.038378</td>\n",
       "    </tr>\n",
       "    <tr>\n",
       "      <th>1</th>\n",
       "      <td>Morning</td>\n",
       "      <td>-0.403342</td>\n",
       "    </tr>\n",
       "    <tr>\n",
       "      <th>2</th>\n",
       "      <td>Afternoon</td>\n",
       "      <td>0.064470</td>\n",
       "    </tr>\n",
       "    <tr>\n",
       "      <th>3</th>\n",
       "      <td>Night</td>\n",
       "      <td>0.314833</td>\n",
       "    </tr>\n",
       "    <tr>\n",
       "      <th>4</th>\n",
       "      <td>Early_Morning</td>\n",
       "      <td>0.650918</td>\n",
       "    </tr>\n",
       "  </tbody>\n",
       "</table>\n",
       "</div>"
      ],
      "text/plain": [
       "            TIME  coefficients\n",
       "0        Evening      0.038378\n",
       "1        Morning     -0.403342\n",
       "2      Afternoon      0.064470\n",
       "3          Night      0.314833\n",
       "4  Early_Morning      0.650918"
      ]
     },
     "execution_count": 185,
     "metadata": {},
     "output_type": "execute_result"
    }
   ],
   "source": [
    "AT = model_cat_num_comb.stages[11].labels\n",
    "AT_coefficients= coff[73:78]\n",
    "AT_performance = pd.DataFrame(\n",
    "    {'TIME': AT,\n",
    "     'coefficients': AT_coefficients,\n",
    "    })\n",
    "AT_performance"
   ]
  },
  {
   "cell_type": "markdown",
   "metadata": {},
   "source": [
    "## Coefficients for Origin Airport"
   ]
  },
  {
   "cell_type": "code",
   "execution_count": 190,
   "metadata": {},
   "outputs": [
    {
     "data": {
      "text/html": [
       "<div>\n",
       "<style scoped>\n",
       "    .dataframe tbody tr th:only-of-type {\n",
       "        vertical-align: middle;\n",
       "    }\n",
       "\n",
       "    .dataframe tbody tr th {\n",
       "        vertical-align: top;\n",
       "    }\n",
       "\n",
       "    .dataframe thead th {\n",
       "        text-align: right;\n",
       "    }\n",
       "</style>\n",
       "<table border=\"1\" class=\"dataframe\">\n",
       "  <thead>\n",
       "    <tr style=\"text-align: right;\">\n",
       "      <th></th>\n",
       "      <th>Origin_Airport</th>\n",
       "      <th>coefficients</th>\n",
       "    </tr>\n",
       "  </thead>\n",
       "  <tbody>\n",
       "    <tr>\n",
       "      <th>1</th>\n",
       "      <td>ATL</td>\n",
       "      <td>-2.554609</td>\n",
       "    </tr>\n",
       "    <tr>\n",
       "      <th>2</th>\n",
       "      <td>ORD</td>\n",
       "      <td>-3.379794</td>\n",
       "    </tr>\n",
       "    <tr>\n",
       "      <th>3</th>\n",
       "      <td>DFW</td>\n",
       "      <td>-0.453273</td>\n",
       "    </tr>\n",
       "    <tr>\n",
       "      <th>4</th>\n",
       "      <td>DEN</td>\n",
       "      <td>0.671653</td>\n",
       "    </tr>\n",
       "    <tr>\n",
       "      <th>5</th>\n",
       "      <td>LAX</td>\n",
       "      <td>0.960280</td>\n",
       "    </tr>\n",
       "    <tr>\n",
       "      <th>6</th>\n",
       "      <td>PHX</td>\n",
       "      <td>1.978019</td>\n",
       "    </tr>\n",
       "    <tr>\n",
       "      <th>7</th>\n",
       "      <td>SFO</td>\n",
       "      <td>-0.373205</td>\n",
       "    </tr>\n",
       "    <tr>\n",
       "      <th>8</th>\n",
       "      <td>IAH</td>\n",
       "      <td>-0.849267</td>\n",
       "    </tr>\n",
       "    <tr>\n",
       "      <th>9</th>\n",
       "      <td>LAS</td>\n",
       "      <td>0.964627</td>\n",
       "    </tr>\n",
       "    <tr>\n",
       "      <th>10</th>\n",
       "      <td>MSP</td>\n",
       "      <td>-0.583268</td>\n",
       "    </tr>\n",
       "    <tr>\n",
       "      <th>11</th>\n",
       "      <td>SEA</td>\n",
       "      <td>1.739354</td>\n",
       "    </tr>\n",
       "    <tr>\n",
       "      <th>12</th>\n",
       "      <td>MCO</td>\n",
       "      <td>0.867220</td>\n",
       "    </tr>\n",
       "    <tr>\n",
       "      <th>13</th>\n",
       "      <td>DTW</td>\n",
       "      <td>-2.577150</td>\n",
       "    </tr>\n",
       "    <tr>\n",
       "      <th>14</th>\n",
       "      <td>BOS</td>\n",
       "      <td>-4.027155</td>\n",
       "    </tr>\n",
       "    <tr>\n",
       "      <th>15</th>\n",
       "      <td>CLT</td>\n",
       "      <td>-0.710624</td>\n",
       "    </tr>\n",
       "    <tr>\n",
       "      <th>16</th>\n",
       "      <td>EWR</td>\n",
       "      <td>-6.928855</td>\n",
       "    </tr>\n",
       "    <tr>\n",
       "      <th>17</th>\n",
       "      <td>SLC</td>\n",
       "      <td>0.528366</td>\n",
       "    </tr>\n",
       "    <tr>\n",
       "      <th>18</th>\n",
       "      <td>LGA</td>\n",
       "      <td>-13.034587</td>\n",
       "    </tr>\n",
       "    <tr>\n",
       "      <th>19</th>\n",
       "      <td>JFK</td>\n",
       "      <td>-12.519208</td>\n",
       "    </tr>\n",
       "    <tr>\n",
       "      <th>20</th>\n",
       "      <td>BWI</td>\n",
       "      <td>-0.846252</td>\n",
       "    </tr>\n",
       "    <tr>\n",
       "      <th>21</th>\n",
       "      <td>MDW</td>\n",
       "      <td>-0.017558</td>\n",
       "    </tr>\n",
       "    <tr>\n",
       "      <th>22</th>\n",
       "      <td>FLL</td>\n",
       "      <td>-1.964203</td>\n",
       "    </tr>\n",
       "    <tr>\n",
       "      <th>23</th>\n",
       "      <td>DCA</td>\n",
       "      <td>-2.662717</td>\n",
       "    </tr>\n",
       "    <tr>\n",
       "      <th>24</th>\n",
       "      <td>SAN</td>\n",
       "      <td>1.694196</td>\n",
       "    </tr>\n",
       "    <tr>\n",
       "      <th>25</th>\n",
       "      <td>MIA</td>\n",
       "      <td>-1.028432</td>\n",
       "    </tr>\n",
       "    <tr>\n",
       "      <th>26</th>\n",
       "      <td>PHL</td>\n",
       "      <td>-5.529629</td>\n",
       "    </tr>\n",
       "    <tr>\n",
       "      <th>27</th>\n",
       "      <td>TPA</td>\n",
       "      <td>2.648587</td>\n",
       "    </tr>\n",
       "    <tr>\n",
       "      <th>28</th>\n",
       "      <td>DAL</td>\n",
       "      <td>3.548151</td>\n",
       "    </tr>\n",
       "    <tr>\n",
       "      <th>29</th>\n",
       "      <td>HOU</td>\n",
       "      <td>4.273915</td>\n",
       "    </tr>\n",
       "    <tr>\n",
       "      <th>30</th>\n",
       "      <td>PDX</td>\n",
       "      <td>4.923456</td>\n",
       "    </tr>\n",
       "    <tr>\n",
       "      <th>...</th>\n",
       "      <td>...</td>\n",
       "      <td>...</td>\n",
       "    </tr>\n",
       "    <tr>\n",
       "      <th>293</th>\n",
       "      <td>EWN</td>\n",
       "      <td>10.722066</td>\n",
       "    </tr>\n",
       "    <tr>\n",
       "      <th>294</th>\n",
       "      <td>GUC</td>\n",
       "      <td>2.646156</td>\n",
       "    </tr>\n",
       "    <tr>\n",
       "      <th>295</th>\n",
       "      <td>EKO</td>\n",
       "      <td>8.824245</td>\n",
       "    </tr>\n",
       "    <tr>\n",
       "      <th>296</th>\n",
       "      <td>ACK</td>\n",
       "      <td>-3.707336</td>\n",
       "    </tr>\n",
       "    <tr>\n",
       "      <th>297</th>\n",
       "      <td>DVL</td>\n",
       "      <td>5.334412</td>\n",
       "    </tr>\n",
       "    <tr>\n",
       "      <th>298</th>\n",
       "      <td>ADQ</td>\n",
       "      <td>12.443091</td>\n",
       "    </tr>\n",
       "    <tr>\n",
       "      <th>299</th>\n",
       "      <td>BGR</td>\n",
       "      <td>2.729621</td>\n",
       "    </tr>\n",
       "    <tr>\n",
       "      <th>300</th>\n",
       "      <td>GUM</td>\n",
       "      <td>6.699648</td>\n",
       "    </tr>\n",
       "    <tr>\n",
       "      <th>301</th>\n",
       "      <td>IAG</td>\n",
       "      <td>-1.311206</td>\n",
       "    </tr>\n",
       "    <tr>\n",
       "      <th>302</th>\n",
       "      <td>MQT</td>\n",
       "      <td>-7.099076</td>\n",
       "    </tr>\n",
       "    <tr>\n",
       "      <th>303</th>\n",
       "      <td>PBG</td>\n",
       "      <td>-2.932933</td>\n",
       "    </tr>\n",
       "    <tr>\n",
       "      <th>304</th>\n",
       "      <td>OTH</td>\n",
       "      <td>6.477976</td>\n",
       "    </tr>\n",
       "    <tr>\n",
       "      <th>305</th>\n",
       "      <td>PUB</td>\n",
       "      <td>5.762887</td>\n",
       "    </tr>\n",
       "    <tr>\n",
       "      <th>306</th>\n",
       "      <td>BGM</td>\n",
       "      <td>0.231065</td>\n",
       "    </tr>\n",
       "    <tr>\n",
       "      <th>307</th>\n",
       "      <td>VEL</td>\n",
       "      <td>11.195741</td>\n",
       "    </tr>\n",
       "    <tr>\n",
       "      <th>308</th>\n",
       "      <td>WYS</td>\n",
       "      <td>5.448757</td>\n",
       "    </tr>\n",
       "    <tr>\n",
       "      <th>309</th>\n",
       "      <td>MVY</td>\n",
       "      <td>-3.977767</td>\n",
       "    </tr>\n",
       "    <tr>\n",
       "      <th>310</th>\n",
       "      <td>CNY</td>\n",
       "      <td>-0.598293</td>\n",
       "    </tr>\n",
       "    <tr>\n",
       "      <th>311</th>\n",
       "      <td>CEC</td>\n",
       "      <td>2.340598</td>\n",
       "    </tr>\n",
       "    <tr>\n",
       "      <th>312</th>\n",
       "      <td>UST</td>\n",
       "      <td>-0.524141</td>\n",
       "    </tr>\n",
       "    <tr>\n",
       "      <th>313</th>\n",
       "      <td>MMH</td>\n",
       "      <td>0.912453</td>\n",
       "    </tr>\n",
       "    <tr>\n",
       "      <th>314</th>\n",
       "      <td>PPG</td>\n",
       "      <td>12.274967</td>\n",
       "    </tr>\n",
       "    <tr>\n",
       "      <th>315</th>\n",
       "      <td>HYA</td>\n",
       "      <td>-5.470168</td>\n",
       "    </tr>\n",
       "    <tr>\n",
       "      <th>316</th>\n",
       "      <td>ILG</td>\n",
       "      <td>-4.265893</td>\n",
       "    </tr>\n",
       "    <tr>\n",
       "      <th>317</th>\n",
       "      <td>ADK</td>\n",
       "      <td>13.653253</td>\n",
       "    </tr>\n",
       "    <tr>\n",
       "      <th>318</th>\n",
       "      <td>DLG</td>\n",
       "      <td>1.483442</td>\n",
       "    </tr>\n",
       "    <tr>\n",
       "      <th>319</th>\n",
       "      <td>GST</td>\n",
       "      <td>11.400295</td>\n",
       "    </tr>\n",
       "    <tr>\n",
       "      <th>320</th>\n",
       "      <td>STC</td>\n",
       "      <td>2.839103</td>\n",
       "    </tr>\n",
       "    <tr>\n",
       "      <th>321</th>\n",
       "      <td>AKN</td>\n",
       "      <td>12.105299</td>\n",
       "    </tr>\n",
       "    <tr>\n",
       "      <th>322</th>\n",
       "      <td>ITH</td>\n",
       "      <td>-8.072001</td>\n",
       "    </tr>\n",
       "  </tbody>\n",
       "</table>\n",
       "<p>322 rows × 2 columns</p>\n",
       "</div>"
      ],
      "text/plain": [
       "    Origin_Airport  coefficients\n",
       "1              ATL     -2.554609\n",
       "2              ORD     -3.379794\n",
       "3              DFW     -0.453273\n",
       "4              DEN      0.671653\n",
       "5              LAX      0.960280\n",
       "6              PHX      1.978019\n",
       "7              SFO     -0.373205\n",
       "8              IAH     -0.849267\n",
       "9              LAS      0.964627\n",
       "10             MSP     -0.583268\n",
       "11             SEA      1.739354\n",
       "12             MCO      0.867220\n",
       "13             DTW     -2.577150\n",
       "14             BOS     -4.027155\n",
       "15             CLT     -0.710624\n",
       "16             EWR     -6.928855\n",
       "17             SLC      0.528366\n",
       "18             LGA    -13.034587\n",
       "19             JFK    -12.519208\n",
       "20             BWI     -0.846252\n",
       "21             MDW     -0.017558\n",
       "22             FLL     -1.964203\n",
       "23             DCA     -2.662717\n",
       "24             SAN      1.694196\n",
       "25             MIA     -1.028432\n",
       "26             PHL     -5.529629\n",
       "27             TPA      2.648587\n",
       "28             DAL      3.548151\n",
       "29             HOU      4.273915\n",
       "30             PDX      4.923456\n",
       "..             ...           ...\n",
       "293            EWN     10.722066\n",
       "294            GUC      2.646156\n",
       "295            EKO      8.824245\n",
       "296            ACK     -3.707336\n",
       "297            DVL      5.334412\n",
       "298            ADQ     12.443091\n",
       "299            BGR      2.729621\n",
       "300            GUM      6.699648\n",
       "301            IAG     -1.311206\n",
       "302            MQT     -7.099076\n",
       "303            PBG     -2.932933\n",
       "304            OTH      6.477976\n",
       "305            PUB      5.762887\n",
       "306            BGM      0.231065\n",
       "307            VEL     11.195741\n",
       "308            WYS      5.448757\n",
       "309            MVY     -3.977767\n",
       "310            CNY     -0.598293\n",
       "311            CEC      2.340598\n",
       "312            UST     -0.524141\n",
       "313            MMH      0.912453\n",
       "314            PPG     12.274967\n",
       "315            HYA     -5.470168\n",
       "316            ILG     -4.265893\n",
       "317            ADK     13.653253\n",
       "318            DLG      1.483442\n",
       "319            GST     11.400295\n",
       "320            STC      2.839103\n",
       "321            AKN     12.105299\n",
       "322            ITH     -8.072001\n",
       "\n",
       "[322 rows x 2 columns]"
      ]
     },
     "execution_count": 190,
     "metadata": {},
     "output_type": "execute_result"
    }
   ],
   "source": [
    "OA = model_cat_num_comb.stages[13].labels\n",
    "OA_coefficients= coff[78:401]\n",
    "OA_performance = pd.DataFrame(\n",
    "    {'Origin_Airport': OA,\n",
    "     'coefficients': OA_coefficients,\n",
    "    })\n",
    "OA_performance"
   ]
  },
  {
   "cell_type": "markdown",
   "metadata": {},
   "source": [
    "## Coefficients for Destination Airport"
   ]
  },
  {
   "cell_type": "code",
   "execution_count": 231,
   "metadata": {},
   "outputs": [
    {
     "data": {
      "text/html": [
       "<div>\n",
       "<style scoped>\n",
       "    .dataframe tbody tr th:only-of-type {\n",
       "        vertical-align: middle;\n",
       "    }\n",
       "\n",
       "    .dataframe tbody tr th {\n",
       "        vertical-align: top;\n",
       "    }\n",
       "\n",
       "    .dataframe thead th {\n",
       "        text-align: right;\n",
       "    }\n",
       "</style>\n",
       "<table border=\"1\" class=\"dataframe\">\n",
       "  <thead>\n",
       "    <tr style=\"text-align: right;\">\n",
       "      <th></th>\n",
       "      <th>Destination Airport</th>\n",
       "      <th>coefficients</th>\n",
       "    </tr>\n",
       "  </thead>\n",
       "  <tbody>\n",
       "    <tr>\n",
       "      <th>1</th>\n",
       "      <td>ATL</td>\n",
       "      <td>-3.331279</td>\n",
       "    </tr>\n",
       "    <tr>\n",
       "      <th>2</th>\n",
       "      <td>ORD</td>\n",
       "      <td>-4.040644</td>\n",
       "    </tr>\n",
       "    <tr>\n",
       "      <th>3</th>\n",
       "      <td>DFW</td>\n",
       "      <td>-2.776255</td>\n",
       "    </tr>\n",
       "    <tr>\n",
       "      <th>4</th>\n",
       "      <td>DEN</td>\n",
       "      <td>-1.359963</td>\n",
       "    </tr>\n",
       "    <tr>\n",
       "      <th>5</th>\n",
       "      <td>LAX</td>\n",
       "      <td>-3.459629</td>\n",
       "    </tr>\n",
       "    <tr>\n",
       "      <th>6</th>\n",
       "      <td>SFO</td>\n",
       "      <td>-1.667642</td>\n",
       "    </tr>\n",
       "    <tr>\n",
       "      <th>7</th>\n",
       "      <td>PHX</td>\n",
       "      <td>0.365066</td>\n",
       "    </tr>\n",
       "    <tr>\n",
       "      <th>8</th>\n",
       "      <td>IAH</td>\n",
       "      <td>-0.036472</td>\n",
       "    </tr>\n",
       "    <tr>\n",
       "      <th>9</th>\n",
       "      <td>LAS</td>\n",
       "      <td>-0.715539</td>\n",
       "    </tr>\n",
       "    <tr>\n",
       "      <th>10</th>\n",
       "      <td>MSP</td>\n",
       "      <td>1.484401</td>\n",
       "    </tr>\n",
       "    <tr>\n",
       "      <th>11</th>\n",
       "      <td>SEA</td>\n",
       "      <td>-0.054475</td>\n",
       "    </tr>\n",
       "    <tr>\n",
       "      <th>12</th>\n",
       "      <td>MCO</td>\n",
       "      <td>0.406925</td>\n",
       "    </tr>\n",
       "    <tr>\n",
       "      <th>13</th>\n",
       "      <td>DTW</td>\n",
       "      <td>-0.497921</td>\n",
       "    </tr>\n",
       "    <tr>\n",
       "      <th>14</th>\n",
       "      <td>BOS</td>\n",
       "      <td>1.275620</td>\n",
       "    </tr>\n",
       "    <tr>\n",
       "      <th>15</th>\n",
       "      <td>CLT</td>\n",
       "      <td>-0.433557</td>\n",
       "    </tr>\n",
       "    <tr>\n",
       "      <th>16</th>\n",
       "      <td>EWR</td>\n",
       "      <td>-2.785055</td>\n",
       "    </tr>\n",
       "    <tr>\n",
       "      <th>17</th>\n",
       "      <td>SLC</td>\n",
       "      <td>0.454321</td>\n",
       "    </tr>\n",
       "    <tr>\n",
       "      <th>18</th>\n",
       "      <td>LGA</td>\n",
       "      <td>-1.365350</td>\n",
       "    </tr>\n",
       "    <tr>\n",
       "      <th>19</th>\n",
       "      <td>JFK</td>\n",
       "      <td>-3.666084</td>\n",
       "    </tr>\n",
       "    <tr>\n",
       "      <th>20</th>\n",
       "      <td>BWI</td>\n",
       "      <td>0.075913</td>\n",
       "    </tr>\n",
       "    <tr>\n",
       "      <th>21</th>\n",
       "      <td>MDW</td>\n",
       "      <td>-1.027305</td>\n",
       "    </tr>\n",
       "    <tr>\n",
       "      <th>22</th>\n",
       "      <td>FLL</td>\n",
       "      <td>1.272177</td>\n",
       "    </tr>\n",
       "    <tr>\n",
       "      <th>23</th>\n",
       "      <td>DCA</td>\n",
       "      <td>2.503604</td>\n",
       "    </tr>\n",
       "    <tr>\n",
       "      <th>24</th>\n",
       "      <td>SAN</td>\n",
       "      <td>2.271648</td>\n",
       "    </tr>\n",
       "    <tr>\n",
       "      <th>25</th>\n",
       "      <td>MIA</td>\n",
       "      <td>1.474107</td>\n",
       "    </tr>\n",
       "    <tr>\n",
       "      <th>26</th>\n",
       "      <td>PHL</td>\n",
       "      <td>0.261797</td>\n",
       "    </tr>\n",
       "    <tr>\n",
       "      <th>27</th>\n",
       "      <td>TPA</td>\n",
       "      <td>2.744229</td>\n",
       "    </tr>\n",
       "    <tr>\n",
       "      <th>28</th>\n",
       "      <td>DAL</td>\n",
       "      <td>0.955072</td>\n",
       "    </tr>\n",
       "    <tr>\n",
       "      <th>29</th>\n",
       "      <td>HOU</td>\n",
       "      <td>0.548984</td>\n",
       "    </tr>\n",
       "    <tr>\n",
       "      <th>30</th>\n",
       "      <td>PDX</td>\n",
       "      <td>1.518172</td>\n",
       "    </tr>\n",
       "    <tr>\n",
       "      <th>...</th>\n",
       "      <td>...</td>\n",
       "      <td>...</td>\n",
       "    </tr>\n",
       "    <tr>\n",
       "      <th>293</th>\n",
       "      <td>ESC</td>\n",
       "      <td>2.270348</td>\n",
       "    </tr>\n",
       "    <tr>\n",
       "      <th>294</th>\n",
       "      <td>EKO</td>\n",
       "      <td>8.186779</td>\n",
       "    </tr>\n",
       "    <tr>\n",
       "      <th>295</th>\n",
       "      <td>ACK</td>\n",
       "      <td>2.789691</td>\n",
       "    </tr>\n",
       "    <tr>\n",
       "      <th>296</th>\n",
       "      <td>DVL</td>\n",
       "      <td>-1.171010</td>\n",
       "    </tr>\n",
       "    <tr>\n",
       "      <th>297</th>\n",
       "      <td>ADQ</td>\n",
       "      <td>5.201545</td>\n",
       "    </tr>\n",
       "    <tr>\n",
       "      <th>298</th>\n",
       "      <td>GUC</td>\n",
       "      <td>1.986017</td>\n",
       "    </tr>\n",
       "    <tr>\n",
       "      <th>299</th>\n",
       "      <td>BGR</td>\n",
       "      <td>5.258508</td>\n",
       "    </tr>\n",
       "    <tr>\n",
       "      <th>300</th>\n",
       "      <td>MQT</td>\n",
       "      <td>1.430191</td>\n",
       "    </tr>\n",
       "    <tr>\n",
       "      <th>301</th>\n",
       "      <td>GUM</td>\n",
       "      <td>9.488447</td>\n",
       "    </tr>\n",
       "    <tr>\n",
       "      <th>302</th>\n",
       "      <td>PBG</td>\n",
       "      <td>3.554011</td>\n",
       "    </tr>\n",
       "    <tr>\n",
       "      <th>303</th>\n",
       "      <td>IAG</td>\n",
       "      <td>2.643787</td>\n",
       "    </tr>\n",
       "    <tr>\n",
       "      <th>304</th>\n",
       "      <td>BGM</td>\n",
       "      <td>2.790520</td>\n",
       "    </tr>\n",
       "    <tr>\n",
       "      <th>305</th>\n",
       "      <td>OTH</td>\n",
       "      <td>0.812262</td>\n",
       "    </tr>\n",
       "    <tr>\n",
       "      <th>306</th>\n",
       "      <td>PUB</td>\n",
       "      <td>1.300637</td>\n",
       "    </tr>\n",
       "    <tr>\n",
       "      <th>307</th>\n",
       "      <td>VEL</td>\n",
       "      <td>3.911258</td>\n",
       "    </tr>\n",
       "    <tr>\n",
       "      <th>308</th>\n",
       "      <td>WYS</td>\n",
       "      <td>7.951948</td>\n",
       "    </tr>\n",
       "    <tr>\n",
       "      <th>309</th>\n",
       "      <td>MVY</td>\n",
       "      <td>-0.989926</td>\n",
       "    </tr>\n",
       "    <tr>\n",
       "      <th>310</th>\n",
       "      <td>CNY</td>\n",
       "      <td>3.501856</td>\n",
       "    </tr>\n",
       "    <tr>\n",
       "      <th>311</th>\n",
       "      <td>CEC</td>\n",
       "      <td>-0.234523</td>\n",
       "    </tr>\n",
       "    <tr>\n",
       "      <th>312</th>\n",
       "      <td>UST</td>\n",
       "      <td>-4.360987</td>\n",
       "    </tr>\n",
       "    <tr>\n",
       "      <th>313</th>\n",
       "      <td>MMH</td>\n",
       "      <td>3.200671</td>\n",
       "    </tr>\n",
       "    <tr>\n",
       "      <th>314</th>\n",
       "      <td>PPG</td>\n",
       "      <td>1.255452</td>\n",
       "    </tr>\n",
       "    <tr>\n",
       "      <th>315</th>\n",
       "      <td>ADK</td>\n",
       "      <td>3.676980</td>\n",
       "    </tr>\n",
       "    <tr>\n",
       "      <th>316</th>\n",
       "      <td>ILG</td>\n",
       "      <td>1.510418</td>\n",
       "    </tr>\n",
       "    <tr>\n",
       "      <th>317</th>\n",
       "      <td>HYA</td>\n",
       "      <td>9.108189</td>\n",
       "    </tr>\n",
       "    <tr>\n",
       "      <th>318</th>\n",
       "      <td>GST</td>\n",
       "      <td>4.181618</td>\n",
       "    </tr>\n",
       "    <tr>\n",
       "      <th>319</th>\n",
       "      <td>DLG</td>\n",
       "      <td>6.521817</td>\n",
       "    </tr>\n",
       "    <tr>\n",
       "      <th>320</th>\n",
       "      <td>STC</td>\n",
       "      <td>8.740073</td>\n",
       "    </tr>\n",
       "    <tr>\n",
       "      <th>321</th>\n",
       "      <td>AKN</td>\n",
       "      <td>5.709352</td>\n",
       "    </tr>\n",
       "    <tr>\n",
       "      <th>322</th>\n",
       "      <td>ITH</td>\n",
       "      <td>-0.397977</td>\n",
       "    </tr>\n",
       "  </tbody>\n",
       "</table>\n",
       "<p>322 rows × 2 columns</p>\n",
       "</div>"
      ],
      "text/plain": [
       "    Destination Airport  coefficients\n",
       "1                   ATL     -3.331279\n",
       "2                   ORD     -4.040644\n",
       "3                   DFW     -2.776255\n",
       "4                   DEN     -1.359963\n",
       "5                   LAX     -3.459629\n",
       "6                   SFO     -1.667642\n",
       "7                   PHX      0.365066\n",
       "8                   IAH     -0.036472\n",
       "9                   LAS     -0.715539\n",
       "10                  MSP      1.484401\n",
       "11                  SEA     -0.054475\n",
       "12                  MCO      0.406925\n",
       "13                  DTW     -0.497921\n",
       "14                  BOS      1.275620\n",
       "15                  CLT     -0.433557\n",
       "16                  EWR     -2.785055\n",
       "17                  SLC      0.454321\n",
       "18                  LGA     -1.365350\n",
       "19                  JFK     -3.666084\n",
       "20                  BWI      0.075913\n",
       "21                  MDW     -1.027305\n",
       "22                  FLL      1.272177\n",
       "23                  DCA      2.503604\n",
       "24                  SAN      2.271648\n",
       "25                  MIA      1.474107\n",
       "26                  PHL      0.261797\n",
       "27                  TPA      2.744229\n",
       "28                  DAL      0.955072\n",
       "29                  HOU      0.548984\n",
       "30                  PDX      1.518172\n",
       "..                  ...           ...\n",
       "293                 ESC      2.270348\n",
       "294                 EKO      8.186779\n",
       "295                 ACK      2.789691\n",
       "296                 DVL     -1.171010\n",
       "297                 ADQ      5.201545\n",
       "298                 GUC      1.986017\n",
       "299                 BGR      5.258508\n",
       "300                 MQT      1.430191\n",
       "301                 GUM      9.488447\n",
       "302                 PBG      3.554011\n",
       "303                 IAG      2.643787\n",
       "304                 BGM      2.790520\n",
       "305                 OTH      0.812262\n",
       "306                 PUB      1.300637\n",
       "307                 VEL      3.911258\n",
       "308                 WYS      7.951948\n",
       "309                 MVY     -0.989926\n",
       "310                 CNY      3.501856\n",
       "311                 CEC     -0.234523\n",
       "312                 UST     -4.360987\n",
       "313                 MMH      3.200671\n",
       "314                 PPG      1.255452\n",
       "315                 ADK      3.676980\n",
       "316                 ILG      1.510418\n",
       "317                 HYA      9.108189\n",
       "318                 GST      4.181618\n",
       "319                 DLG      6.521817\n",
       "320                 STC      8.740073\n",
       "321                 AKN      5.709352\n",
       "322                 ITH     -0.397977\n",
       "\n",
       "[322 rows x 2 columns]"
      ]
     },
     "execution_count": 231,
     "metadata": {},
     "output_type": "execute_result"
    }
   ],
   "source": [
    "DA = model_cat_num_comb.stages[15].labels\n",
    "DA_coefficients= coff[401:724]\n",
    "DA_performance = pd.DataFrame(\n",
    "    {'Destination Airport': DA,\n",
    "     'coefficients': DA_coefficients,\n",
    "    })\n",
    "DA_performance[1:]"
   ]
  },
  {
   "cell_type": "markdown",
   "metadata": {},
   "source": [
    "## Prediction by User Input"
   ]
  },
  {
   "cell_type": "code",
   "execution_count": 41,
   "metadata": {},
   "outputs": [],
   "source": [
    "Prediction_df = [Row(TAXI_OUT = 12, DISTANCE = 2000, TAXI_IN = 10, DEPARTURE_DELAY = 12, MONTH = 3,\\\n",
    "                     DAY = 20, DAY_OF_WEEK = 4, AIRLINE = 'B6', DEPARTURE_TIME = 'Early_Morning', ARRIVAL_TIME = 'Afternoon',\\\n",
    "                     ORIGIN_AIRPORT_NEW = 'ORD', DESTINATION_AIRPORT_NEW = 'SFO')]\n",
    "predict_df = spark.createDataFrame(Prediction_df)"
   ]
  },
  {
   "cell_type": "code",
   "execution_count": 42,
   "metadata": {},
   "outputs": [
    {
     "name": "stdout",
     "output_type": "stream",
     "text": [
      "+------------------------+\n",
      "|AIRTIME_DELAY_PREDICTION|\n",
      "+------------------------+\n",
      "|     -11.420259536955275|\n",
      "+------------------------+\n",
      "\n"
     ]
    }
   ],
   "source": [
    "model_cat_num_comb.transform(predict_df).select(fn.col('prediction').alias('AIRTIME_DELAY_PREDICTION')).show()"
   ]
  }
 ],
 "metadata": {
  "kernelspec": {
   "display_name": "Python 3",
   "language": "python",
   "name": "python3"
  },
  "language_info": {
   "codemirror_mode": {
    "name": "ipython",
    "version": 3
   },
   "file_extension": ".py",
   "mimetype": "text/x-python",
   "name": "python",
   "nbconvert_exporter": "python",
   "pygments_lexer": "ipython3",
   "version": "3.7.0"
  }
 },
 "nbformat": 4,
 "nbformat_minor": 2
}
